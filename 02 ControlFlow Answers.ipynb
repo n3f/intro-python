{
 "cells": [
  {
   "cell_type": "markdown",
   "metadata": {
    "slideshow": {
     "slide_type": "slide"
    }
   },
   "source": [
    "#### 5-3: Alien Colors\n",
    "\n",
    "Imagine an alien was just shot down in a game. Create a variable called `alien_color` and assign it a value of 'green', 'yellow', or 'red'.\n",
    "* Write an `if` statement to test whether the alien’s color is green. If it is, print a message that the player just earned 5 points.\n",
    "* Write one version of this program that passes the `if` test and another that fails. (The version that fails will have no output.)"
   ]
  },
  {
   "cell_type": "code",
   "execution_count": null,
   "metadata": {
    "slideshow": {
     "slide_type": "slide"
    }
   },
   "outputs": [],
   "source": [
    "# Do 5-3\n",
    "alien_color = 'green'\n",
    "if alien_color == 'green':\n",
    "    print('You just earned 5 points')"
   ]
  },
  {
   "cell_type": "code",
   "execution_count": null,
   "metadata": {
    "slideshow": {
     "slide_type": "slide"
    }
   },
   "outputs": [],
   "source": [
    "# Do 5-3\n",
    "alien_color = 'red'\n",
    "if alien_color == 'green':\n",
    "    print('You just earned 5 points')"
   ]
  },
  {
   "cell_type": "markdown",
   "metadata": {
    "slideshow": {
     "slide_type": "slide"
    }
   },
   "source": [
    "#### 5-4: Alien Colors (again)\n",
    "Choose a color for an alien as you did in Exercise 5-3, and write an `if-else` chain.\n",
    "* If the alien’s color is green, print a statement that the player just earned 5 points for shooting the alien.\n",
    "* If the alien’s color isn’t green, print a statement that the player just earned 10 points.\n",
    "* Write one version of this program that runs the `if` block and another that runs the `else` block."
   ]
  },
  {
   "cell_type": "code",
   "execution_count": null,
   "metadata": {
    "slideshow": {
     "slide_type": "slide"
    }
   },
   "outputs": [],
   "source": [
    "# Do 5-4\n",
    "alien_color = 'green'\n",
    "if alien_color == 'green':\n",
    "    print('You just earned 5 points for shooting the alien')\n",
    "else:\n",
    "    print('You just earned 10 points')"
   ]
  },
  {
   "cell_type": "code",
   "execution_count": null,
   "metadata": {
    "slideshow": {
     "slide_type": "slide"
    }
   },
   "outputs": [],
   "source": [
    "# Do 5-4\n",
    "alien_color = 'red'\n",
    "if alien_color == 'green':\n",
    "    print('You just earned 5 points for shooting the alien')\n",
    "else:\n",
    "    print('You just earned 10 points')"
   ]
  },
  {
   "cell_type": "markdown",
   "metadata": {
    "slideshow": {
     "slide_type": "slide"
    }
   },
   "source": [
    "#### 5-5: Alien Colors #3\n",
    "Turn your `if-else` chain from Exercise 5-4 into an `if-elif-else` chain.\n",
    "* If the alien is green, print a message that the player earned 5 points.\n",
    "* If the alien is yellow, print a message that the player earned 10 points.\n",
    "* If the alien is red, print a message that the player earned 15 points.\n",
    "* Write three versions of this program, making sure each message is printed for the appropriate color alien."
   ]
  },
  {
   "cell_type": "code",
   "execution_count": null,
   "metadata": {
    "slideshow": {
     "slide_type": "slide"
    }
   },
   "outputs": [],
   "source": [
    "# Do 5-5\n",
    "alien_color = 'blue'\n",
    "if alien_color == 'green':\n",
    "    print('You just earned 5 points for shooting the alien')\n",
    "elif alien_color == 'yellow':\n",
    "    print('You just earned 10 points')\n",
    "elif alien_color == 'red':\n",
    "    print('You just earned 15 points')\n",
    "else:\n",
    "    print('you cheated')"
   ]
  },
  {
   "cell_type": "code",
   "execution_count": null,
   "metadata": {
    "slideshow": {
     "slide_type": "slide"
    }
   },
   "outputs": [],
   "source": [
    "# Do 5-5\n",
    "alien_color = 'yellow'\n",
    "if alien_color == 'green':\n",
    "    print('You just earned 5 points for shooting the alien')\n",
    "elif alien_color == 'yellow':\n",
    "    print('You just earned 10 points')\n",
    "elif alien_color == 'red':\n",
    "    print('You just earned 15 points')"
   ]
  },
  {
   "cell_type": "code",
   "execution_count": null,
   "metadata": {
    "slideshow": {
     "slide_type": "slide"
    }
   },
   "outputs": [],
   "source": [
    "# Do 5-5\n",
    "alien_color = 'red'\n",
    "if alien_color == 'green':\n",
    "    print('You just earned 5 points for shooting the alien')\n",
    "elif alien_color == 'yellow':\n",
    "    print('You just earned 10 points')\n",
    "elif alien_color == 'red':\n",
    "    print('You just earned 15 points')"
   ]
  },
  {
   "cell_type": "markdown",
   "metadata": {
    "slideshow": {
     "slide_type": "slide"
    }
   },
   "source": [
    "#### 5-11: Ordinal Numbers\n",
    "Ordinal numbers indicate their position in a list, such as 1st or 2nd. Most ordinal numbers end in th, except 1, 2, and 3\n",
    "* Store the numbers 1 through 9 in a list.\n",
    "* Loop through the list.\n",
    "* Use an if-elif-else chain inside the loop to print the proper ordinal ending for each number. Your output should read \"1st 2nd 3rd 4th 5th 6th 7th 8th 9th\", and each result should be on a separate line."
   ]
  },
  {
   "cell_type": "code",
   "execution_count": null,
   "metadata": {
    "slideshow": {
     "slide_type": "slide"
    }
   },
   "outputs": [],
   "source": [
    "# Do 5-11\n",
    "for i  in range(1,10):\n",
    "    if i == 1:\n",
    "        print('1st')\n",
    "    elif i == 2:\n",
    "        print('2nd')\n",
    "    elif i == 3:\n",
    "        print('3rd')\n",
    "    else:\n",
    "        print(str(i) + 'th')"
   ]
  },
  {
   "cell_type": "markdown",
   "metadata": {
    "slideshow": {
     "slide_type": "slide"
    }
   },
   "source": [
    "#### 6-11: Cities\n",
    "Make a dictionary called `cities`. Use the names of three cities as keys in your dictionary. Create a dictionary of information about each city and include the country that the city is in, its approximate population, and one fact about that city. The keys for each city’s dictionary should be something like `country`, `population`, and `fact`. Print the name of each city and all of the information you have stored about it."
   ]
  },
  {
   "cell_type": "code",
   "execution_count": null,
   "metadata": {
    "slideshow": {
     "slide_type": "slide"
    }
   },
   "outputs": [],
   "source": [
    "# Do 6-11\n",
    "cities = {\n",
    "    'l.a.': {\n",
    "        'country': 'usa',\n",
    "        'population': 'yes',\n",
    "        'fact': 'has traffic'\n",
    "    },\n",
    "    'portland': {\n",
    "        'country': 'usa',\n",
    "        'population': 'some',\n",
    "        'fact': \"it's weird\"\n",
    "    },\n",
    "    'baker': {\n",
    "        'country': 'usa',\n",
    "        'population': 'no',\n",
    "        'fact': 'hot'\n",
    "    }\n",
    "}\n",
    "for city, info in cities.items():\n",
    "    print('\\n' + city)\n",
    "    print('\\t', info)"
   ]
  },
  {
   "cell_type": "markdown",
   "metadata": {
    "slideshow": {
     "slide_type": "slide"
    }
   },
   "source": [
    "#### 7-5: Movie Tickets\n",
    "A movie theater charges different ticket prices depending on a person’s age. If a person is under the age of 3, the ticket is free; if they are between 3 and 12, the ticket is `$10`; and if they are over age 12, the ticket is `$15`. Write a loop in which you ask users their age, and then tell them the cost of their movie ticket."
   ]
  },
  {
   "cell_type": "code",
   "execution_count": null,
   "metadata": {
    "slideshow": {
     "slide_type": "slide"
    }
   },
   "outputs": [],
   "source": [
    "# do 7-5\n",
    "while True:\n",
    "    age = input('How old are you? (type \"quit\" to stop): ')\n",
    "    if age == 'quit':\n",
    "        break\n",
    "\n",
    "    try:\n",
    "        age = float(age)\n",
    "    except Exception as e:\n",
    "        print(\"that's not a number\")\n",
    "        continue\n",
    "        \n",
    "    if age < 3:\n",
    "        print('\\tyou are free to enter')\n",
    "    elif age <= 12:\n",
    "        print('\\tticket is $10')\n",
    "    else:\n",
    "        print('\\tticket is $15')"
   ]
  },
  {
   "cell_type": "markdown",
   "metadata": {
    "slideshow": {
     "slide_type": "slide"
    }
   },
   "source": [
    "#### 8-5: Cities\n",
    "\n",
    "Write a function called `describe_city()` that accepts the name of a city and its country. The function should print a simple sentence, such as *Reykjavik is in Iceland*. Give the parameter for the country a default value. Call your function for three different cities, at least one of which is not in the default country."
   ]
  },
  {
   "cell_type": "code",
   "execution_count": null,
   "metadata": {
    "slideshow": {
     "slide_type": "slide"
    }
   },
   "outputs": [],
   "source": [
    "# Do 8-5\n",
    "def describe_city(city, country=\"u.s.a.\"):\n",
    "    print(city.title(), 'is in', country.title())\n",
    "\n",
    "describe_city('paris', 'france')\n",
    "describe_city('moscow', 'russia')\n",
    "describe_city('LONDON', 'united kingdom')\n",
    "describe_city('new york')"
   ]
  },
  {
   "cell_type": "markdown",
   "metadata": {
    "slideshow": {
     "slide_type": "slide"
    }
   },
   "source": [
    "#### 8-7: Album\n",
    "\n",
    "Write a function called `make_album()` that builds a dictionary\n",
    "describing a music album. The function should take in an artist name and an\n",
    "album title, and it should return a dictionary containing these two pieces of\n",
    "information. Use the function to make three dictionaries representing different\n",
    "albums. Print each return value to show that the dictionaries are storing the\n",
    "album information correctly.\n",
    "\n",
    "Add an optional parameter to `make_album()` that allows you to store the\n",
    "number of tracks on an album. If the calling line includes a value for the number\n",
    "of tracks, add that value to the album’s dictionary. Make at least one new\n",
    "function call that includes the number of tracks on an album.\n",
    "\n",
    "#### 8-8: More Album\n",
    "\n",
    "Start with your program from Exercise 8-7. Write a while\n",
    "loop that allows users to enter an album’s artist and title. Once you have that\n",
    "information, call `make_album()` with the user’s input and print the dictionary\n",
    "that’s created. Be sure to include a quit condition in the while loop."
   ]
  },
  {
   "cell_type": "code",
   "execution_count": null,
   "metadata": {
    "slideshow": {
     "slide_type": "slide"
    }
   },
   "outputs": [],
   "source": [
    "# Do 8-7\n",
    "def make_album(artist, title, num_tracks=None):\n",
    "    album = dict(artist=artist, title=title)\n",
    "    if num_tracks:\n",
    "        album['tracks'] = num_tracks\n",
    "    return album\n",
    "\n",
    "print(make_album('michael jackson', 'bad', 10))\n",
    "print(make_album('elvis presley', 'blue suede shoes'))\n",
    "print(make_album('aaron copland', 'appalachian spring'))"
   ]
  },
  {
   "cell_type": "code",
   "execution_count": null,
   "metadata": {
    "slideshow": {
     "slide_type": "slide"
    }
   },
   "outputs": [],
   "source": [
    "# Do 8-8\n",
    "while True:\n",
    "    artist = input('Artist Name? (type \"quit\" to stop): ')\n",
    "    if artist == 'quit':\n",
    "        break\n",
    "    title = input('Album Title? ')\n",
    "\n",
    "    print(make_album(artist, title))"
   ]
  },
  {
   "cell_type": "markdown",
   "metadata": {
    "slideshow": {
     "slide_type": "slide"
    }
   },
   "source": [
    "#### 8-9, 8-10: Magician List\n",
    "1. Make a list of magician’s names. Pass the list to a function\n",
    "called `show_magicians()`, which prints the name of each magician in the list.\n",
    "1. Great Magicians: Start with a copy of your program from Exercise 8-9.\n",
    "Write a function called `make_great()` that modifies the list of magicians by adding\n",
    "the phrase *the Great* to each magician’s name. Call `show_magicians()` to\n",
    "see that the list has actually been modified."
   ]
  },
  {
   "cell_type": "code",
   "execution_count": null,
   "metadata": {
    "slideshow": {
     "slide_type": "slide"
    }
   },
   "outputs": [],
   "source": [
    "# Do 8-9, 8-10\n",
    "magicians = ['steven strange', 'harry blackstone', 'harry dresden']\n",
    "def show_magicians(magicians):\n",
    "    for magician in magicians:\n",
    "        print(magician.title())\n",
    "\n",
    "show_magicians(magicians)\n",
    "\n",
    "def make_great(magicians):\n",
    "    for i, magician in enumerate(magicians):\n",
    "        magicians[i] = 'the great ' + magician\n",
    "\n",
    "make_great(magicians)\n",
    "show_magicians(magicians)"
   ]
  },
  {
   "cell_type": "markdown",
   "metadata": {
    "slideshow": {
     "slide_type": "slide"
    }
   },
   "source": [
    "#### 8-14: Cars\n",
    "\n",
    "Write a function (in a separate file `cars.py`) that stores information about a car in a dictionary.\n",
    "\n",
    "* The function should always receive a manufacturer and a model name\n",
    "* It should then accept an arbitrary number of keyword arguments\n",
    "* Import the function\n",
    "* Call the function with the required information and two other name-value pairs, such as a color or an optional feature. \n",
    "* Your function should work for a call like this one:\n",
    "  ```py\n",
    "  car = cars.make_car('subaru', 'outback', color='blue', tow_package=True)\n",
    "  ```\n",
    "* Print the dictionary that’s returned to make sure all the information was stored correctly."
   ]
  },
  {
   "cell_type": "code",
   "execution_count": null,
   "metadata": {
    "slideshow": {
     "slide_type": "slide"
    }
   },
   "outputs": [],
   "source": [
    "# Do 8-14\n",
    "import cars\n",
    "print(cars.make_car('subaru', 'outback', color='blue', tow_package=True))"
   ]
  },
  {
   "cell_type": "code",
   "execution_count": null,
   "metadata": {},
   "outputs": [],
   "source": [
    "!cat cars.py"
   ]
  }
 ],
 "metadata": {
  "kernelspec": {
   "display_name": "Python 3",
   "language": "python",
   "name": "python3"
  },
  "language_info": {
   "codemirror_mode": {
    "name": "ipython",
    "version": 3
   },
   "file_extension": ".py",
   "mimetype": "text/x-python",
   "name": "python",
   "nbconvert_exporter": "python",
   "pygments_lexer": "ipython3",
   "version": "3.7.0"
  },
  "rise": {
   "slideNumber": false,
   "theme": "sky"
  }
 },
 "nbformat": 4,
 "nbformat_minor": 2
}
