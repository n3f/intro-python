{
 "cells": [
  {
   "cell_type": "markdown",
   "metadata": {
    "slideshow": {
     "slide_type": "slide"
    }
   },
   "source": [
    "# Introduction to Python :: Session 2\n",
    "\n",
    "Brent Nef  \n",
    "August 29, 2018"
   ]
  },
  {
   "cell_type": "markdown",
   "metadata": {
    "slideshow": {
     "slide_type": "slide"
    }
   },
   "source": [
    "# TODO\n",
    "\n",
    "1. [If statements](#if-Statement)\n",
    "1. [More Dictionaries](#More-Dictionaries)\n",
    "1. [User input and while loops](#Getting-input()-from-Users)\n",
    "1. [Functions](#Functions)\n",
    "1. [Modules](#Modules)"
   ]
  },
  {
   "cell_type": "markdown",
   "metadata": {},
   "source": [
    "# Jupyter Notebooks\n",
    "\n",
    "* http://n3f.co/x or https://python.because.work/\n",
    "* *[I Don't Like Notebooks](https://docs.google.com/presentation/d/1n2RlMdmv1p25Xy5thJUhkKGvjtV-dkAIsUXP-AL4ffI/present?includes_info_params=1#slide=id.g362da58057_0_1)*"
   ]
  },
  {
   "cell_type": "markdown",
   "metadata": {
    "slideshow": {
     "slide_type": "slide"
    }
   },
   "source": [
    "# `if` Statement\n",
    "\n",
    "* The general python syntax for a simple `if` statement is:\n",
    "\n",
    "```python\n",
    "if condition:\n",
    "    print('condition is true')\n",
    "```\n",
    "* If `condition` evaluates to `True`, then execute the indented statements\n",
    "* If `condition` evaluates to `False`, then the indented statements are skipped"
   ]
  },
  {
   "cell_type": "markdown",
   "metadata": {
    "slideshow": {
     "slide_type": "slide"
    }
   },
   "source": [
    "## Conditional Tests\n",
    "\n",
    "* An expression that evaluates to True or False\n",
    "* Equality/Inequality\n",
    "* Numerical Comparisons\n",
    "* Boolean Comparisons\n",
    "* Sequence Comparisons\n"
   ]
  },
  {
   "cell_type": "markdown",
   "metadata": {
    "slideshow": {
     "slide_type": "subslide"
    }
   },
   "source": [
    "## Equality\n",
    "\n",
    "* Use `==` to check whether an item *equals* another"
   ]
  },
  {
   "cell_type": "code",
   "execution_count": null,
   "metadata": {
    "slideshow": {
     "slide_type": "fragment"
    }
   },
   "outputs": [],
   "source": [
    "a = 'a'\n",
    "if a == 'a':\n",
    "    print('a is \"a\"')"
   ]
  },
  {
   "cell_type": "code",
   "execution_count": null,
   "metadata": {
    "slideshow": {
     "slide_type": "fragment"
    }
   },
   "outputs": [],
   "source": [
    "b = 10\n",
    "if b == 10:\n",
    "    print('b is 10')"
   ]
  },
  {
   "cell_type": "markdown",
   "metadata": {
    "slideshow": {
     "slide_type": "subslide"
    }
   },
   "source": [
    "## Inequality\n",
    "\n",
    "* Use `!=` to evaluate whether two items are *not equal*"
   ]
  },
  {
   "cell_type": "code",
   "execution_count": null,
   "metadata": {
    "slideshow": {
     "slide_type": "fragment"
    }
   },
   "outputs": [],
   "source": [
    "if a != 'b':\n",
    "    print('a does not equal \"b\"')"
   ]
  },
  {
   "cell_type": "code",
   "execution_count": null,
   "metadata": {
    "slideshow": {
     "slide_type": "fragment"
    }
   },
   "outputs": [],
   "source": [
    "if b != 0:\n",
    "    print('b does not equal 0')"
   ]
  },
  {
   "cell_type": "markdown",
   "metadata": {
    "slideshow": {
     "slide_type": "subslide"
    }
   },
   "source": [
    "## Numerical Comparisons\n",
    "\n",
    "* Less than: `<`\n",
    "* Less than or equal: `<=`\n",
    "* Greater than: `>`\n",
    "* Greater than or equal: `>=`"
   ]
  },
  {
   "cell_type": "code",
   "execution_count": null,
   "metadata": {
    "slideshow": {
     "slide_type": "fragment"
    }
   },
   "outputs": [],
   "source": [
    "age = 19\n",
    "age < 21"
   ]
  },
  {
   "cell_type": "code",
   "execution_count": null,
   "metadata": {
    "slideshow": {
     "slide_type": "fragment"
    }
   },
   "outputs": [],
   "source": [
    "age < 19"
   ]
  },
  {
   "cell_type": "code",
   "execution_count": null,
   "metadata": {
    "slideshow": {
     "slide_type": "fragment"
    }
   },
   "outputs": [],
   "source": [
    "age <= 19"
   ]
  },
  {
   "cell_type": "markdown",
   "metadata": {
    "slideshow": {
     "slide_type": "subslide"
    }
   },
   "source": [
    "## Boolean Comparisons\n",
    "\n",
    "* If you need to make multiple comparisons at the same time, you use the *boolean operators* `and`, `or`, and `not`"
   ]
  },
  {
   "cell_type": "code",
   "execution_count": null,
   "metadata": {
    "slideshow": {
     "slide_type": "fragment"
    }
   },
   "outputs": [],
   "source": [
    "a = 5\n",
    "b = 10\n",
    "c = 20\n",
    "\n",
    "a < b and b < c and c == 20"
   ]
  },
  {
   "cell_type": "code",
   "execution_count": null,
   "metadata": {
    "slideshow": {
     "slide_type": "fragment"
    }
   },
   "outputs": [],
   "source": [
    "a < b and b < c and c == 19"
   ]
  },
  {
   "cell_type": "markdown",
   "metadata": {
    "slideshow": {
     "slide_type": "subslide"
    }
   },
   "source": [
    "## Sequence Comparisons\n",
    "\n",
    "* You can check if an element belongs to a sequence (`string`, `list`, `tuple`, `dictionary`, `set` etc.) by using the membership comparison operator **`in`**"
   ]
  },
  {
   "cell_type": "code",
   "execution_count": null,
   "metadata": {
    "slideshow": {
     "slide_type": "-"
    }
   },
   "outputs": [],
   "source": [
    "requested_toppings = ['mushrooms', 'onions', 'pineapple']\n",
    "'mushrooms' in requested_toppings"
   ]
  },
  {
   "cell_type": "code",
   "execution_count": null,
   "metadata": {
    "slideshow": {
     "slide_type": "-"
    }
   },
   "outputs": [],
   "source": [
    "'pepperoni' in requested_toppings"
   ]
  },
  {
   "cell_type": "code",
   "execution_count": null,
   "metadata": {},
   "outputs": [],
   "source": [
    "# Check for a *key* in dictionary\n",
    "d = {'a': None}\n",
    "if 'a' in d: print('a is a key')\n",
    "if 'c' not in d: print('c is NOT a key')"
   ]
  },
  {
   "cell_type": "markdown",
   "metadata": {
    "slideshow": {
     "slide_type": "fragment"
    }
   },
   "source": [
    "* Use `not in` to check if element does not belong to a sequence"
   ]
  },
  {
   "cell_type": "markdown",
   "metadata": {
    "slideshow": {
     "slide_type": "slide"
    }
   },
   "source": [
    "## `if-else` Statement\n",
    "\n",
    "* Use when you want python to always execute one of two possible actions\n",
    "\n",
    "```python\n",
    "if condition:\n",
    "    print('condition is true')\n",
    "else:\n",
    "    print('condition is false')\n",
    "```"
   ]
  },
  {
   "cell_type": "code",
   "execution_count": null,
   "metadata": {
    "slideshow": {
     "slide_type": "fragment"
    }
   },
   "outputs": [],
   "source": [
    "age = 17\n",
    "if age >= 18:\n",
    "    print(\"You are old enough to vote!\")\n",
    "    print(\"Have you registered to vote yet?\")\n",
    "else:\n",
    "    print(\"Sorry, you are too young to vote.\")\n",
    "    print(\"Please register to vote as soon as you turn 18!\")"
   ]
  },
  {
   "cell_type": "markdown",
   "metadata": {
    "slideshow": {
     "slide_type": "slide"
    }
   },
   "source": [
    "## `if-elif-else` Chain\n",
    "\n",
    "* When you need to test more than 2 possible situations use the `if-elif-else` syntax\n",
    "* You can use as many `elif` blocks as needed\n",
    "* `else` block is optional\n",
    "   * Provides a general catch-all block for processing"
   ]
  },
  {
   "cell_type": "code",
   "execution_count": null,
   "metadata": {
    "slideshow": {
     "slide_type": "fragment"
    }
   },
   "outputs": [],
   "source": [
    "# Example:\n",
    "# Admission for anyone under age 4 is free\n",
    "# Admission for anyone between the ages of 4 and 18 is $5\n",
    "# Admission for anyone age 18 or older is $10\n",
    "age = 12\n",
    "if age < 4:\n",
    "    cost = 0\n",
    "elif age < 18:\n",
    "    cost = 5\n",
    "else:\n",
    "    cost = 10\n",
    "print('Your cost is:', cost)"
   ]
  },
  {
   "cell_type": "markdown",
   "metadata": {
    "slideshow": {
     "slide_type": "subslide"
    }
   },
   "source": [
    "### Multiple `elif` blocks\n",
    "\n",
    "* Add senior citizen discount (age >= 65) = $5"
   ]
  },
  {
   "cell_type": "code",
   "execution_count": null,
   "metadata": {
    "slideshow": {
     "slide_type": "-"
    }
   },
   "outputs": [],
   "source": [
    "if age < 4:\n",
    "    cost = 0\n",
    "elif age < 18:\n",
    "    cost = 5\n",
    "elif age < 65:\n",
    "    cost = 10\n",
    "else:  # to avoid having an else block consider using `elif age >= 65` instead\n",
    "    cost = 5\n",
    "print('Your cost is:', cost)"
   ]
  },
  {
   "cell_type": "markdown",
   "metadata": {
    "slideshow": {
     "slide_type": "subslide"
    }
   },
   "source": [
    "#### 5-3: Alien Colors\n",
    "\n",
    "Imagine an alien was just shot down in a game. Create a variable called `alien_color` and assign it a value of 'green', 'yellow', or 'red'.\n",
    "* Write an `if` statement to test whether the alien’s color is green. If it is, print a message that the player just earned 5 points.\n",
    "* Write one version of this program that passes the `if` test and another that fails. (The version that fails will have no output.)"
   ]
  },
  {
   "cell_type": "code",
   "execution_count": null,
   "metadata": {
    "slideshow": {
     "slide_type": "skip"
    }
   },
   "outputs": [],
   "source": [
    "# Do 5-3"
   ]
  },
  {
   "cell_type": "markdown",
   "metadata": {
    "slideshow": {
     "slide_type": "subslide"
    }
   },
   "source": [
    "#### 5-4: Alien Colors (again)\n",
    "Choose a color for an alien as you did in Exercise 5-3, and write an `if-else` chain.\n",
    "* If the alien’s color is green, print a statement that the player just earned 5 points for shooting the alien.\n",
    "* If the alien’s color isn’t green, print a statement that the player just earned 10 points.\n",
    "* Write one version of this program that runs the `if` block and another that runs the `else` block."
   ]
  },
  {
   "cell_type": "code",
   "execution_count": null,
   "metadata": {
    "slideshow": {
     "slide_type": "skip"
    }
   },
   "outputs": [],
   "source": [
    "# Do 5-4"
   ]
  },
  {
   "cell_type": "markdown",
   "metadata": {
    "slideshow": {
     "slide_type": "subslide"
    }
   },
   "source": [
    "#### 5-5: Alien Colors #3\n",
    "Turn your `if-else` chain from Exercise 5-4 into an `if-elif-else` chain.\n",
    "* If the alien is green, print a message that the player earned 5 points.\n",
    "* If the alien is yellow, print a message that the player earned 10 points.\n",
    "* If the alien is red, print a message that the player earned 15 points.\n",
    "* Write three versions of this program, making sure each message is printed for the appropriate color alien."
   ]
  },
  {
   "cell_type": "code",
   "execution_count": null,
   "metadata": {
    "slideshow": {
     "slide_type": "skip"
    }
   },
   "outputs": [],
   "source": [
    "# Do 5-5"
   ]
  },
  {
   "cell_type": "markdown",
   "metadata": {
    "slideshow": {
     "slide_type": "subslide"
    }
   },
   "source": [
    "#### 5-11: Ordinal Numbers\n",
    "Ordinal numbers indicate their position in a list, such as 1st or 2nd. Most ordinal numbers end in th, except 1, 2, and 3\n",
    "* Store the numbers 1 through 9 in a list.\n",
    "* Loop through the list.\n",
    "* Use an if-elif-else chain inside the loop to print the proper ordinal ending for each number. Your output should read \"1st 2nd 3rd 4th 5th 6th 7th 8th 9th\", and each result should be on a separate line."
   ]
  },
  {
   "cell_type": "code",
   "execution_count": null,
   "metadata": {
    "slideshow": {
     "slide_type": "skip"
    }
   },
   "outputs": [],
   "source": [
    "# Do 5-11"
   ]
  },
  {
   "cell_type": "markdown",
   "metadata": {
    "slideshow": {
     "slide_type": "slide"
    }
   },
   "source": [
    "# More Dictionaries\n",
    "\n",
    "* So far we've been using fairly simple data structures\n",
    "* With what we know now, we can start creating more complicated structures\n",
    "   * lists of dictionaries\n",
    "   * dictionaries with a list of items as the values\n",
    "   * dictionaries inside dictionaries"
   ]
  },
  {
   "cell_type": "markdown",
   "metadata": {
    "slideshow": {
     "slide_type": "subslide"
    }
   },
   "source": [
    "## A list of dictionaries"
   ]
  },
  {
   "cell_type": "code",
   "execution_count": null,
   "metadata": {
    "slideshow": {
     "slide_type": "-"
    }
   },
   "outputs": [],
   "source": [
    "# Make an empty list for storing aliens.\n",
    "aliens = []\n",
    "# Make 30 green aliens.\n",
    "for alien_number in range(30):\n",
    "    new_alien = {'color': 'green', 'points': 5, 'speed': 'slow'}\n",
    "    aliens.append(new_alien)\n",
    "\n",
    "# Show the first 5 aliens:\n",
    "for alien in aliens[:5]:\n",
    "    print(alien)\n",
    "    \n",
    "print('...')\n",
    "\n",
    "# Show how many aliens have been created.\n",
    "print(\"Total number of aliens: \" + str(len(aliens)))"
   ]
  },
  {
   "cell_type": "markdown",
   "metadata": {
    "slideshow": {
     "slide_type": "subslide"
    }
   },
   "source": [
    "## Modifing the first 3"
   ]
  },
  {
   "cell_type": "code",
   "execution_count": null,
   "metadata": {
    "slideshow": {
     "slide_type": "-"
    }
   },
   "outputs": [],
   "source": [
    "for alien in aliens[0:3]:\n",
    "    if alien['color'] == 'green':\n",
    "        alien['color'] = 'yellow'\n",
    "        alien['speed'] = 'medium'\n",
    "        alien['points'] = 10\n",
    "\n",
    "# Show the first 5 aliens:\n",
    "for alien in aliens[:5]:\n",
    "    print(alien)\n",
    "    \n",
    "print('...')\n",
    "\n",
    "# Show how many aliens have been created.\n",
    "print(\"Total number of aliens: \" + str(len(aliens)))"
   ]
  },
  {
   "cell_type": "markdown",
   "metadata": {
    "slideshow": {
     "slide_type": "subslide"
    }
   },
   "source": [
    "## A List in a Dictionary"
   ]
  },
  {
   "cell_type": "code",
   "execution_count": null,
   "metadata": {
    "slideshow": {
     "slide_type": "-"
    }
   },
   "outputs": [],
   "source": [
    "# Store information about a pizza being ordered.\n",
    "pizza = {\n",
    "    'crust': 'thick',\n",
    "    'toppings': ['mushrooms', 'extra cheese'],\n",
    "}\n",
    "\n",
    "# Summarize the order.\n",
    "print(\"You ordered a \" + pizza['crust'] + \"-crust pizza \" + \"with the following toppings:\")\n",
    "for topping in pizza['toppings']:\n",
    "    print(\"\\t\" + topping)"
   ]
  },
  {
   "cell_type": "markdown",
   "metadata": {
    "slideshow": {
     "slide_type": "subslide"
    }
   },
   "source": [
    "## A Dictionary in a dictionary\n",
    "\n",
    "* **Be careful** Nesting too deeply can get your code more complicated than it needs to be\n"
   ]
  },
  {
   "cell_type": "code",
   "execution_count": null,
   "metadata": {
    "slideshow": {
     "slide_type": "subslide"
    }
   },
   "outputs": [],
   "source": [
    "users = {\n",
    "    'aeinstein': {\n",
    "        'first': 'albert',\n",
    "        'last': 'einstein',\n",
    "        'location': 'princeton',\n",
    "    },\n",
    "    'mcurie': {\n",
    "        'first': 'marie',\n",
    "        'last': 'curie',\n",
    "        'location': 'paris',\n",
    "    },\n",
    "}\n",
    "\n",
    "for username, user_info in users.items():\n",
    "    print(\"\\nUsername: \" + username)\n",
    "    full_name = user_info['first'] + \" \" + user_info['last']\n",
    "    location = user_info['location']\n",
    "\n",
    "    print(\"\\tFull name: \" + full_name.title())\n",
    "    print(\"\\tLocation: \" + location.title())"
   ]
  },
  {
   "cell_type": "markdown",
   "metadata": {
    "slideshow": {
     "slide_type": "subslide"
    }
   },
   "source": [
    "#### 6-11: Cities\n",
    "Make a dictionary called `cities`. Use the names of three cities as keys in your dictionary. Create a dictionary of information about each city and include the country that the city is in, its approximate population, and one fact about that city. The keys for each city’s dictionary should be something like `country`, `population`, and `fact`. Print the name of each city and all of the information you have stored about it."
   ]
  },
  {
   "cell_type": "code",
   "execution_count": null,
   "metadata": {
    "slideshow": {
     "slide_type": "skip"
    }
   },
   "outputs": [],
   "source": [
    "# Do 6-11"
   ]
  },
  {
   "cell_type": "markdown",
   "metadata": {
    "slideshow": {
     "slide_type": "slide"
    }
   },
   "source": [
    "# Getting `input()` from Users\n",
    "\n",
    "* `input()` accepts an argument called *`prompt`*, and returns a string [🔗](https://docs.python.org/3.5/library/functions.html#input)\n",
    "   * If the prompt argument is present, it is written to standard output without a trailing newline\n",
    "   * The function then reads a line from input, converts it to a string (stripping a trailing newline), and returns that  "
   ]
  },
  {
   "cell_type": "code",
   "execution_count": null,
   "metadata": {
    "slideshow": {
     "slide_type": "-"
    }
   },
   "outputs": [],
   "source": [
    "message = input(\"Tell me a message and I'll repeat it back to you: \") # Leave a colon and some space...\n",
    "print('You entered:', message)"
   ]
  },
  {
   "cell_type": "markdown",
   "metadata": {
    "slideshow": {
     "slide_type": "subslide"
    }
   },
   "source": [
    "## Fix this problem"
   ]
  },
  {
   "cell_type": "code",
   "execution_count": null,
   "metadata": {
    "slideshow": {
     "slide_type": "-"
    }
   },
   "outputs": [],
   "source": [
    "height = input(\"How tall are you, in inches? \")\n",
    "\n",
    "if height >= 36:\n",
    "    print(\"\\nYou're tall enough to ride!\")\n",
    "else:\n",
    "    print(\"\\nYou'll be able to ride when you're a little older.\")"
   ]
  },
  {
   "cell_type": "markdown",
   "metadata": {
    "slideshow": {
     "slide_type": "subslide"
    }
   },
   "source": [
    "# `while` loops\n",
    "\n",
    "* Syntax: `while `*`condition`*`:`\n",
    "* This loop executes as long as *condition* holds true"
   ]
  },
  {
   "cell_type": "code",
   "execution_count": null,
   "metadata": {
    "slideshow": {
     "slide_type": "-"
    }
   },
   "outputs": [],
   "source": [
    "current_number = 1\n",
    "while current_number <= 5:\n",
    "    print(current_number)\n",
    "    current_number += 1"
   ]
  },
  {
   "cell_type": "markdown",
   "metadata": {
    "slideshow": {
     "slide_type": "subslide"
    }
   },
   "source": [
    "### Using `break` to exit a loop\n",
    "\n",
    "* Executing the `break` statement anywhere in a loop will cause the execution to immediately leave the loop context and return to the next statement after the loop\n",
    "* Works in `for` loops as well"
   ]
  },
  {
   "cell_type": "code",
   "execution_count": null,
   "metadata": {
    "slideshow": {
     "slide_type": "-"
    }
   },
   "outputs": [],
   "source": [
    "prompt = \"\\nPlease enter the name of a city you have visited:\"\n",
    "prompt += \"\\n(Enter 'quit' when you are finished.) \"\n",
    "\n",
    "while True:\n",
    "    city = input(prompt)\n",
    "    if city == 'quit':\n",
    "        break\n",
    "    else:\n",
    "        print(\"I'd love to go to \" + city.title() + \"!\")"
   ]
  },
  {
   "cell_type": "markdown",
   "metadata": {
    "slideshow": {
     "slide_type": "subslide"
    }
   },
   "source": [
    "## Using `continue` in a loop\n",
    "\n",
    "* Instead of breaking out of a loop you can restart at the beginning of a loop using the `continue` statement"
   ]
  },
  {
   "cell_type": "code",
   "execution_count": null,
   "metadata": {
    "slideshow": {
     "slide_type": "-"
    }
   },
   "outputs": [],
   "source": [
    "# print odd numbers\n",
    "current_number = 0\n",
    "while current_number < 10:\n",
    "    current_number += 1\n",
    "    if current_number % 2 == 0:\n",
    "        continue\n",
    "    print(current_number)"
   ]
  },
  {
   "cell_type": "markdown",
   "metadata": {
    "slideshow": {
     "slide_type": "subslide"
    }
   },
   "source": [
    "#### 7-5: Movie Tickets\n",
    "A movie theater charges different ticket prices depending on a person’s age. If a person is under the age of 3, the ticket is free; if they are between 3 and 12, the ticket is `$10`; and if they are over age 12, the ticket is `$15`. Write a loop in which you ask users their age, and then tell them the cost of their movie ticket."
   ]
  },
  {
   "cell_type": "code",
   "execution_count": null,
   "metadata": {
    "slideshow": {
     "slide_type": "skip"
    }
   },
   "outputs": [],
   "source": [
    "# do 7-5"
   ]
  },
  {
   "cell_type": "markdown",
   "metadata": {
    "slideshow": {
     "slide_type": "slide"
    }
   },
   "source": [
    "# Functions\n",
    "\n",
    "1. Take a block of code\n",
    "1. Name it\n",
    "1. Use it"
   ]
  },
  {
   "cell_type": "code",
   "execution_count": null,
   "metadata": {
    "slideshow": {
     "slide_type": "-"
    }
   },
   "outputs": [],
   "source": [
    "def greet_user():\n",
    "    \"\"\"Display a simple greeting.\"\"\"\n",
    "    print(\"Hello!\")\n",
    "\n",
    "greet_user()"
   ]
  },
  {
   "cell_type": "markdown",
   "metadata": {
    "slideshow": {
     "slide_type": "slide"
    }
   },
   "source": [
    "## `docstring`\n",
    "\n",
    "The text wrapped in the `\"\"\"` is a `docstring`.  This in a python convention to describe what your code does.  It's not required, but *good code contains comments*."
   ]
  },
  {
   "cell_type": "code",
   "execution_count": null,
   "metadata": {
    "slideshow": {
     "slide_type": "-"
    }
   },
   "outputs": [],
   "source": [
    "# it can also help others to use your code\n",
    "help(greet_user)"
   ]
  },
  {
   "cell_type": "markdown",
   "metadata": {
    "slideshow": {
     "slide_type": "subslide"
    }
   },
   "source": [
    "## Benefits of functions\n",
    "\n",
    "* Separate blocks of code from main program\n",
    "* Re-use in different parts of the program\n",
    "* Easier to understand *(especially if you name them well)*"
   ]
  },
  {
   "cell_type": "markdown",
   "metadata": {
    "slideshow": {
     "slide_type": "subslide"
    }
   },
   "source": [
    "## Passing information to a function\n",
    "\n",
    "* Functions can accept arguments\n",
    "* Name the arguments in the parentheses of the `def` block"
   ]
  },
  {
   "cell_type": "code",
   "execution_count": null,
   "metadata": {
    "slideshow": {
     "slide_type": "-"
    }
   },
   "outputs": [],
   "source": [
    "def greet_user(username):\n",
    "    \"\"\"Display a simple greeting.\"\"\"\n",
    "    print(\"Hello, \" + username + \"!\")\n",
    "\n",
    "greet_user('bob')"
   ]
  },
  {
   "cell_type": "markdown",
   "metadata": {
    "slideshow": {
     "slide_type": "slide"
    }
   },
   "source": [
    "## Argument Types :: Positional Arguments\n",
    "\n",
    "* Python will call function with the arguments in the order thet you call them"
   ]
  },
  {
   "cell_type": "code",
   "execution_count": null,
   "metadata": {
    "slideshow": {
     "slide_type": "-"
    }
   },
   "outputs": [],
   "source": [
    "def describe_pet(animal_type, pet_name):\n",
    "    \"\"\"Display information about a pet.\"\"\"\n",
    "    print(\"\\nI have a \" + animal_type + \".\")\n",
    "    print(\"My \" + animal_type + \"'s name is \" + pet_name.title() + \".\")"
   ]
  },
  {
   "cell_type": "code",
   "execution_count": null,
   "metadata": {
    "slideshow": {
     "slide_type": "-"
    }
   },
   "outputs": [],
   "source": [
    "describe_pet('bob', 'dog')"
   ]
  },
  {
   "cell_type": "markdown",
   "metadata": {
    "slideshow": {
     "slide_type": "subslide"
    }
   },
   "source": [
    "## Argument Types :: Keyword Arguments\n",
    "\n",
    "* Pass in arguments as Key/Value pairs\n",
    "* Order of arguments is not important\n",
    "* Don't even have to recreate function"
   ]
  },
  {
   "cell_type": "code",
   "execution_count": null,
   "metadata": {
    "slideshow": {
     "slide_type": "-"
    }
   },
   "outputs": [],
   "source": [
    "describe_pet(pet_name='jerry', animal_type='fish')"
   ]
  },
  {
   "cell_type": "markdown",
   "metadata": {
    "slideshow": {
     "slide_type": "slide"
    }
   },
   "source": [
    "## Default Values\n",
    "\n",
    "* If you provide a default value in the function definition, you can call the function without passing an argument\n",
    "* ***What happens if you call the function without an argument defined by default or otherwise?***"
   ]
  },
  {
   "cell_type": "code",
   "execution_count": null,
   "metadata": {
    "slideshow": {
     "slide_type": "-"
    }
   },
   "outputs": [],
   "source": [
    "# Most pets are dogs\n",
    "def describe_pet(pet_name, animal_type='dog'):\n",
    "    \"\"\"Display information about a pet.\"\"\"\n",
    "    print(\"\\nI have a \" + animal_type + \".\")\n",
    "    print(\"My \" + animal_type + \"'s name is \" + pet_name.title() + \".\")\n",
    "\n",
    "describe_pet(pet_name='willie')"
   ]
  },
  {
   "cell_type": "code",
   "execution_count": null,
   "metadata": {
    "slideshow": {
     "slide_type": "subslide"
    }
   },
   "outputs": [],
   "source": [
    "describe_pet()"
   ]
  },
  {
   "cell_type": "markdown",
   "metadata": {
    "slideshow": {
     "slide_type": "subslide"
    }
   },
   "source": [
    "## Equivalent Function Calls\n",
    "\n",
    "* These are all the same ways to call the previous function:\n",
    "* *It doesn’t really matter which calling style you use. As long as your function calls produce the output you want, just use the style you find easiest to understand.*"
   ]
  },
  {
   "cell_type": "code",
   "execution_count": null,
   "metadata": {},
   "outputs": [],
   "source": [
    "# A dog named Willie.\n",
    "describe_pet('willie')\n",
    "describe_pet('willie', 'dog')\n",
    "describe_pet(pet_name='willie')\n",
    "describe_pet('willie', animal_type='dog')\n",
    "describe_pet(pet_name='willie', animal_type='dog')\n",
    "describe_pet(animal_type='dog', pet_name='willie')"
   ]
  },
  {
   "cell_type": "markdown",
   "metadata": {
    "slideshow": {
     "slide_type": "subslide"
    }
   },
   "source": [
    "#### 8-5: Cities\n",
    "\n",
    "Write a function called `describe_city()` that accepts the name of a city and its country. The function should print a simple sentence, such as *Reykjavik is in Iceland*. Give the parameter for the country a default value. Call your function for three different cities, at least one of which is not in the default country."
   ]
  },
  {
   "cell_type": "code",
   "execution_count": null,
   "metadata": {
    "slideshow": {
     "slide_type": "skip"
    }
   },
   "outputs": [],
   "source": [
    "# Do 8-5"
   ]
  },
  {
   "cell_type": "markdown",
   "metadata": {
    "slideshow": {
     "slide_type": "slide"
    }
   },
   "source": [
    "## Return values\n",
    "\n",
    "* After processing data in a function, return it with the `return` statement\n",
    "* Takes a value from *inside* the function and sends it back to the line that called the function\n",
    "* Any data type can be returned (e.g. list, dictionary, DateTime, etc.)"
   ]
  },
  {
   "cell_type": "code",
   "execution_count": null,
   "metadata": {
    "slideshow": {
     "slide_type": "fragment"
    }
   },
   "outputs": [],
   "source": [
    "def get_formatted_name(first_name, last_name):\n",
    "    \"\"\"Return a full name, neatly formatted.\"\"\"\n",
    "    full_name = first_name + ' ' + last_name\n",
    "    return full_name.title()\n",
    "\n",
    "musician = get_formatted_name('jimi', 'hendrix')\n",
    "print(musician)"
   ]
  },
  {
   "cell_type": "markdown",
   "metadata": {
    "slideshow": {
     "slide_type": "subslide"
    }
   },
   "source": [
    "#### 8-7: Album\n",
    "\n",
    "Write a function called `make_album()` that builds a dictionary\n",
    "describing a music album. The function should take in an artist name and an\n",
    "album title, and it should return a dictionary containing these two pieces of\n",
    "information. Use the function to make three dictionaries representing different\n",
    "albums. Print each return value to show that the dictionaries are storing the\n",
    "album information correctly.\n",
    "\n",
    "Add an optional parameter to `make_album()` that allows you to store the\n",
    "number of tracks on an album. If the calling line includes a value for the number\n",
    "of tracks, add that value to the album’s dictionary. Make at least one new\n",
    "function call that includes the number of tracks on an album.\n",
    "\n",
    "#### 8-8: More Album\n",
    "\n",
    "Start with your program from Exercise 8-7. Write a while\n",
    "loop that allows users to enter an album’s artist and title. Once you have that\n",
    "information, call `make_album()` with the user’s input and print the dictionary\n",
    "that’s created. Be sure to include a quit condition in the while loop."
   ]
  },
  {
   "cell_type": "code",
   "execution_count": null,
   "metadata": {
    "slideshow": {
     "slide_type": "skip"
    }
   },
   "outputs": [],
   "source": [
    "# Do 8-7"
   ]
  },
  {
   "cell_type": "code",
   "execution_count": null,
   "metadata": {
    "slideshow": {
     "slide_type": "skip"
    }
   },
   "outputs": [],
   "source": [
    "# Do 8-8"
   ]
  },
  {
   "cell_type": "markdown",
   "metadata": {
    "slideshow": {
     "slide_type": "subslide"
    }
   },
   "source": [
    "#### 8-9, 8-10: Magician List\n",
    "1. Make a list of magician’s names. Pass the list to a function\n",
    "called `show_magicians()`, which prints the name of each magician in the list.\n",
    "1. Great Magicians: Start with a copy of your program from Exercise 8-9.\n",
    "Write a function called `make_great()` that modifies the list of magicians by adding\n",
    "the phrase *the Great* to each magician’s name. Call `show_magicians()` to\n",
    "see that the list has actually been modified."
   ]
  },
  {
   "cell_type": "markdown",
   "metadata": {
    "slideshow": {
     "slide_type": "slide"
    }
   },
   "source": [
    "## Accepting an Arbitrary Number of Arguments\n",
    "\n",
    "### *Yes you can!*\n",
    "\n",
    "* If you don't know how many arguments to take beforehand... take all of them"
   ]
  },
  {
   "cell_type": "code",
   "execution_count": null,
   "metadata": {
    "slideshow": {
     "slide_type": "fragment"
    }
   },
   "outputs": [],
   "source": [
    "def make_pizza(*toppings): # <-- the '*' is the secret sauce: it creates a tuple with all values)\n",
    "    \"\"\"Print the list of toppings that have been requested.\"\"\"\n",
    "    print(toppings)\n",
    "    \n",
    "make_pizza('pepperoni')\n",
    "make_pizza('mushrooms', 'green peppers', 'extra cheese')"
   ]
  },
  {
   "cell_type": "markdown",
   "metadata": {
    "slideshow": {
     "slide_type": "subslide"
    }
   },
   "source": [
    "## Mixing Positional and Arbitrary Args\n",
    "\n",
    "* The parameter that accepts arbitrary args must come last\n",
    "* Place positional and keyword arguments first"
   ]
  },
  {
   "cell_type": "code",
   "execution_count": null,
   "metadata": {
    "slideshow": {
     "slide_type": "-"
    }
   },
   "outputs": [],
   "source": [
    "def make_pizza(size, *toppings):\n",
    "    \"\"\"Summarize the pizza we are about to make.\"\"\"\n",
    "    print(\"\\nMaking a \" + str(size) + \"-inch pizza with the following toppings:\")\n",
    "    for topping in toppings:\n",
    "        print(\"- \" + topping)\n",
    "\n",
    "make_pizza(16, 'pepperoni')\n",
    "make_pizza(12, 'mushrooms', 'green peppers', 'extra cheese')"
   ]
  },
  {
   "cell_type": "markdown",
   "metadata": {
    "slideshow": {
     "slide_type": "subslide"
    }
   },
   "source": [
    "## Arbitrary Keyword Arguments\n",
    "\n",
    "This example shows that all users have a required first and last name.  Other information can be passed in depending on the user"
   ]
  },
  {
   "cell_type": "code",
   "execution_count": null,
   "metadata": {},
   "outputs": [],
   "source": [
    "def build_profile(first, last, **user_info):\n",
    "    \"\"\"Build a dictionary containing everything we know about a user.\"\"\"\n",
    "    profile = {}\n",
    "    profile['first_name'] = first\n",
    "    profile['last_name'] = last\n",
    "    for key, value in user_info.items():\n",
    "        profile[key] = value\n",
    "    return profile\n",
    "\n",
    "user_profile = build_profile('albert', 'einstein', location='princeton', field='physics')\n",
    "print(user_profile)"
   ]
  },
  {
   "cell_type": "markdown",
   "metadata": {
    "slideshow": {
     "slide_type": "slide"
    }
   },
   "source": [
    "# Modules\n",
    "\n",
    "* Combine your well-named functions into logical groups and store in a separate file\n",
    "* Now you have a **`module`**\n",
    "\n",
    "\n",
    "* Hide the details of your code\n",
    "* Share with other programmers\n",
    "* `import` other programmers code"
   ]
  },
  {
   "cell_type": "markdown",
   "metadata": {
    "slideshow": {
     "slide_type": "subslide"
    }
   },
   "source": [
    "## Import entire module\n",
    "\n",
    "After creating a module (see [pizza.py](/edit/pizza.py)):\n",
    "\n",
    "1. Use `import <module_name>` *(it's the filename, but leave off the `.py` extension)*\n",
    "1. Functions will be available at `<module_name>.<function_name>`"
   ]
  },
  {
   "cell_type": "code",
   "execution_count": null,
   "metadata": {
    "slideshow": {
     "slide_type": "-"
    }
   },
   "outputs": [],
   "source": [
    "import pizza\n",
    "\n",
    "pizza.make_pizza(16, 'pepperoni')\n",
    "pizza.make_pizza(12, 'mushrooms', 'green peppers', 'extra cheese')"
   ]
  },
  {
   "cell_type": "markdown",
   "metadata": {
    "slideshow": {
     "slide_type": "subslide"
    }
   },
   "source": [
    "## Import specific functions\n",
    "\n",
    "```py\n",
    "from module_name import function_name\n",
    "from module_name2 import function_1, function_2\n",
    "```\n",
    "\n",
    "## Import all functions\n",
    "```py\n",
    "from module_name import *\n",
    "```\n",
    "* Not recommended\n",
    "* It's possible you could import something using the same variable_name and not even know it.  *That's a hard bug to find*"
   ]
  },
  {
   "cell_type": "markdown",
   "metadata": {
    "slideshow": {
     "slide_type": "subslide"
    }
   },
   "source": [
    "## Aliasing\n",
    "\n",
    "### Alias module name\n",
    "\n",
    "```py\n",
    "import module_name as mn                      # Reference this \n",
    "                                              # module as mn instead\n",
    "                                              # of module_name\n",
    "```\n",
    "\n",
    "### Alias function name\n",
    "\n",
    "```py\n",
    "from module_name import function_name as fn   # Now known as fn\n",
    "```"
   ]
  },
  {
   "cell_type": "markdown",
   "metadata": {
    "slideshow": {
     "slide_type": "subslide"
    }
   },
   "source": [
    "#### 8-14: Cars\n",
    "\n",
    "Write a function (in a separate file `cars.py`) that stores information about a car in a dictionary.\n",
    "\n",
    "* The function should always receive a manufacturer and a model name\n",
    "* It should then accept an arbitrary number of keyword arguments\n",
    "* Import the function\n",
    "* Call the function with the required information and two other name-value pairs, such as a color or an optional feature. \n",
    "* Your function should work for a call like this one:\n",
    "  ```py\n",
    "  car = cars.make_car('subaru', 'outback', color='blue', tow_package=True)\n",
    "  ```\n",
    "* Print the dictionary that’s returned to make sure all the information was stored correctly."
   ]
  },
  {
   "cell_type": "code",
   "execution_count": null,
   "metadata": {
    "slideshow": {
     "slide_type": "skip"
    }
   },
   "outputs": [],
   "source": [
    "# Do 8-14"
   ]
  },
  {
   "cell_type": "markdown",
   "metadata": {
    "slideshow": {
     "slide_type": "slide"
    }
   },
   "source": [
    "## Module search path\n",
    "\n",
    "* Where does Python find modules?"
   ]
  },
  {
   "cell_type": "code",
   "execution_count": null,
   "metadata": {
    "slideshow": {
     "slide_type": "-"
    }
   },
   "outputs": [],
   "source": [
    "import sys\n",
    "from pprint import pprint\n",
    "pprint(sys.path)"
   ]
  }
 ],
 "metadata": {
  "kernelspec": {
   "display_name": "Python 3",
   "language": "python",
   "name": "python3"
  },
  "rise": {
   "slideNumber": false,
   "theme": "sky"
  }
 },
 "nbformat": 4,
 "nbformat_minor": 2
}
