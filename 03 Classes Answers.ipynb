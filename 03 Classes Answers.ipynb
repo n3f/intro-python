{
 "cells": [
  {
   "cell_type": "markdown",
   "metadata": {
    "slideshow": {
     "slide_type": "slide"
    }
   },
   "source": [
    "### 9-4: Number Served\n",
    "\n",
    "* Make a class called Restaurant. The `__init__()` method for\n",
    "Restaurant should store two attributes: a `restaurant_name` and a `cuisine_type`.\n",
    "* Make a method called `describe_restaurant()` that prints these two pieces of\n",
    "information, and a method called `open_restaurant()` that prints a message indicating\n",
    "that the restaurant is open.\n",
    "* Add an attribute called `number_served` with a default value of 0. Create an\n",
    "instance called `restaurant` from this class. Print the number of customers the\n",
    "restaurant has served, and then change this value and print it again.\n",
    "* Add a method called `set_number_served()` that lets you set the number\n",
    "of customers that have been served. Call this method with a new number and\n",
    "print the value again.\n",
    "* Add a method called `increment_number_served()` that lets you increment\n",
    "the number of customers who’ve been served. Call this method with any number\n",
    "you like that could represent how many customers were served in, say, a\n",
    "day of business."
   ]
  },
  {
   "cell_type": "code",
   "execution_count": 12,
   "metadata": {
    "slideshow": {
     "slide_type": "slide"
    }
   },
   "outputs": [],
   "source": [
    "# Do 9-4\n",
    "import string\n",
    "\n",
    "class Restaurant():\n",
    "    \"\"\"Object that represents an establishment that serves food.\"\"\"\n",
    "    def __init__(self, restaurant_name, cuisine_type):\n",
    "        self.restaurant_name = restaurant_name\n",
    "        self.cuisine_type = cuisine_type\n",
    "        self.number_served = 0\n",
    "        \n",
    "    def describe_restaurant(self):\n",
    "        print('\\nName:', string.capwords(self.restaurant_name), '\\nCuisine:', self.cuisine_type.title())\n",
    "        \n",
    "    def open_restaurant(self):\n",
    "        print(string.capwords(self.restaurant_name), 'is open')\n",
    "        \n",
    "    def set_number_served(self, number_served):\n",
    "        self.number_served = number_served\n",
    "        \n",
    "    def increment_number_served(self, number_served=1):\n",
    "        self.number_served += number_served"
   ]
  },
  {
   "cell_type": "code",
   "execution_count": 13,
   "metadata": {
    "slideshow": {
     "slide_type": "slide"
    }
   },
   "outputs": [
    {
     "name": "stdout",
     "output_type": "stream",
     "text": [
      "\n",
      "Name: Arby's \n",
      "Cuisine: Fast Food\n",
      "Arby's is open\n",
      "Currently served: 0\n",
      "Currently served: 2\n",
      "Currently served: 3\n"
     ]
    }
   ],
   "source": [
    "arbys = Restaurant(\"arby's\", 'fast food')\n",
    "arbys.describe_restaurant()\n",
    "arbys.open_restaurant()\n",
    "print('Currently served:', arbys.number_served)\n",
    "arbys.set_number_served(2)\n",
    "print('Currently served:', arbys.number_served)\n",
    "arbys.increment_number_served(1)\n",
    "print('Currently served:', arbys.number_served)"
   ]
  },
  {
   "cell_type": "markdown",
   "metadata": {
    "slideshow": {
     "slide_type": "slide"
    }
   },
   "source": [
    "### 9-10: Imported Restaurant\n",
    "* Using your latest `Restaurant` class, store it in a module.\n",
    "* Put the ice cream stand in another file\n",
    "* import your ice cream stand here so that this code works:"
   ]
  },
  {
   "cell_type": "code",
   "execution_count": 3,
   "metadata": {
    "slideshow": {
     "slide_type": "-"
    }
   },
   "outputs": [
    {
     "name": "stdout",
     "output_type": "stream",
     "text": [
      "\n",
      "Name: Nef Ice Cream Treats \n",
      "Cuisine: Ice Cream\n"
     ]
    }
   ],
   "source": [
    "# Do 9-10\n",
    "# jupyter magic to reload files when this cell is re-run\n",
    "%load_ext autoreload\n",
    "%autoreload 2\n",
    "\n",
    "from ice_cream_stand import IceCreamStand\n",
    "\n",
    "stand = IceCreamStand()\n",
    "stand.describe_restaurant()"
   ]
  },
  {
   "cell_type": "markdown",
   "metadata": {
    "slideshow": {
     "slide_type": "slide"
    }
   },
   "source": [
    "### 9-14: Dice\n",
    "\n",
    "The module `random` contains functions that generate random numbers\n",
    "in a variety of ways. The function `randint()` returns an integer in the\n",
    "range you provide. The following code returns a number between 1 and 6:\n",
    "\n",
    "```python\n",
    "from random import randint\n",
    "x = randint(1, 6)\n",
    "```\n",
    "\n",
    "* Make a class Die with one attribute called sides, which has a default\n",
    "value of 6. Write a method called `roll_die()` that prints a random number\n",
    "between 1 and the number of sides the die has. Make a 6-sided die and roll\n",
    "it 10 times.\n",
    "* Make a 10-sided die and a 20-sided die. Roll each die 10 times."
   ]
  },
  {
   "cell_type": "code",
   "execution_count": 4,
   "metadata": {
    "slideshow": {
     "slide_type": "skip"
    }
   },
   "outputs": [],
   "source": [
    "# Do 9-14\n",
    "import random\n",
    "\n",
    "class Die():\n",
    "    \"\"\"Roll this\"\"\"\n",
    "    def __init__(self, sides):\n",
    "        self.sides = sides\n",
    "    def roll_die(self):\n",
    "        return random.randint(1,self.sides)"
   ]
  },
  {
   "cell_type": "code",
   "execution_count": 12,
   "metadata": {
    "slideshow": {
     "slide_type": "-"
    }
   },
   "outputs": [
    {
     "name": "stdout",
     "output_type": "stream",
     "text": [
      "6-sided: [4, 4, 1, 6, 1, 6, 3, 2, 4, 4]\n",
      "10-sided: [6, 7, 7, 4, 1, 9, 6, 6, 1, 8]\n",
      "20-sided: [18, 13, 15, 7, 11, 12, 15, 11, 10, 20]\n"
     ]
    }
   ],
   "source": [
    "def print_rolls(die, rolls=10):\n",
    "    print('%s-sided:' % die.sides, [die.roll_die() for i in range(rolls)])\n",
    "\n",
    "print_rolls(Die(6))\n",
    "print_rolls(Die(10))\n",
    "print_rolls(Die(20))"
   ]
  },
  {
   "cell_type": "markdown",
   "metadata": {
    "slideshow": {
     "slide_type": "slide"
    }
   },
   "source": [
    "### 10-4: Guest Book\n",
    "\n",
    "* Write a while loop that prompts users for their name. When\n",
    "they enter their name, print a greeting to the screen and add a line recording\n",
    "their visit in a file called `guest_book.txt`.\n",
    "* Make sure each entry appears on a\n",
    "new line in the file."
   ]
  },
  {
   "cell_type": "code",
   "execution_count": 1,
   "metadata": {
    "slideshow": {
     "slide_type": "-"
    }
   },
   "outputs": [
    {
     "name": "stderr",
     "output_type": "stream",
     "text": [
      "c:\\tools\\miniconda3\\envs\\intro2018\\lib\\site-packages\\ipykernel\\parentpoller.py:116: UserWarning: Parent poll failed.  If the frontend dies,\n",
      "                the kernel may be left running.  Please let us know\n",
      "                about your system (bitness, Python, etc.) at\n",
      "                ipython-dev@scipy.org\n",
      "  ipython-dev@scipy.org\"\"\")\n"
     ]
    },
    {
     "name": "stdout",
     "output_type": "stream",
     "text": [
      "What's your name? ('q' to quit)Bob Johnson\n",
      "\n",
      "Welcome, Bob Johnson, your visit has been recorded\n",
      "What's your name? ('q' to quit)Sam Jackson\n",
      "\n",
      "Welcome, Sam Jackson, your visit has been recorded\n",
      "What's your name? ('q' to quit)q\n"
     ]
    }
   ],
   "source": [
    "# Do 10-4\n",
    "def guest_book():\n",
    "    with open('guest_book.txt','w') as f:\n",
    "        while True:\n",
    "            name = input(\"What's your name? ('q' to quit)\")\n",
    "            if name == 'q': break;\n",
    "            print('\\nWelcome, ' + name.title() + ', your visit has been recorded')\n",
    "            f.write(name + '\\n')\n",
    "\n",
    "guest_book()        "
   ]
  },
  {
   "cell_type": "markdown",
   "metadata": {
    "slideshow": {
     "slide_type": "slide"
    }
   },
   "source": [
    "### 10-11, 10-12: Favorite Number\n",
    "* Write a program that prompts for the user’s favorite\n",
    "number. Use `json.dump()` to store this number in a file. Write a separate program\n",
    "that reads in this value and prints the message, *“I know your favorite\n",
    "number! It’s _____.”*\n",
    "* Combine those two programs into one file. If the number is already stored, report the favorite\n",
    "number to the user. If not, prompt for the user’s favorite number and store it in a\n",
    "file. Run the program twice to see that it works."
   ]
  },
  {
   "cell_type": "code",
   "execution_count": 6,
   "metadata": {},
   "outputs": [
    {
     "name": "stdout",
     "output_type": "stream",
     "text": [
      "Your favorite number is: 123\n"
     ]
    }
   ],
   "source": [
    "# Do 10-11, 10-12\n",
    "import json\n",
    "\n",
    "number_file = 'number.json'\n",
    "\n",
    "def get_favorite_number():\n",
    "    with open(number_file) as f:\n",
    "        file_info = json.load(f)\n",
    "        if file_info and file_info.get('number', None):\n",
    "            return file_info.get('number')\n",
    "\n",
    "def store_favorite_number():\n",
    "    num = input(\"What's your favorite number?\")\n",
    "    if num != 'q':\n",
    "        with open(number_file, 'w') as f:\n",
    "            json.dump(dict(number=num), f)\n",
    "\n",
    "num = get_favorite_number()\n",
    "if num:\n",
    "    print('Your favorite number is:', num)\n",
    "else:\n",
    "    store_favorite_number()"
   ]
  },
  {
   "cell_type": "markdown",
   "metadata": {
    "slideshow": {
     "slide_type": "slide"
    }
   },
   "source": [
    "### 11-3: Employee\n",
    "* Write a class called `Employee`. The `__init__()` method should\n",
    "take in a first name, a last name, and an annual salary, and store each of these\n",
    "as attributes.\n",
    "* Write a method called `give_raise()` that adds \\$5000 to the\n",
    "annual salary by default but also accepts a different raise amount.\n",
    "* Write a test case for `Employee`. Write two test methods, `test_give_default_raise()` and `test_give_custom_raise()`. Use the `setUp()` method so you don’t have to create a new employee instance in each test method.\n",
    "* Run your test case, and make sure both tests pass."
   ]
  },
  {
   "cell_type": "code",
   "execution_count": 10,
   "metadata": {
    "slideshow": {
     "slide_type": "slide"
    }
   },
   "outputs": [],
   "source": [
    "class Employee():\n",
    "    def __init__(self, first_name, last_name, annual_salary):\n",
    "        self.first_name = first_name\n",
    "        self.last_name = last_name\n",
    "        self.annual_salary = annual_salary\n",
    "    def give_raise(self, raise_amount=5000):\n",
    "        self.annual_salary += raise_amount"
   ]
  },
  {
   "cell_type": "code",
   "execution_count": 12,
   "metadata": {
    "slideshow": {
     "slide_type": "slide"
    }
   },
   "outputs": [
    {
     "name": "stderr",
     "output_type": "stream",
     "text": [
      "..\n",
      "----------------------------------------------------------------------\n",
      "Ran 2 tests in 0.000s\n",
      "\n",
      "OK\n"
     ]
    },
    {
     "data": {
      "text/plain": [
       "<unittest.runner.TextTestResult run=2 errors=0 failures=0>"
      ]
     },
     "execution_count": 12,
     "metadata": {},
     "output_type": "execute_result"
    }
   ],
   "source": [
    "import unittest\n",
    "import random\n",
    "\n",
    "class EmployeeTestCase(unittest.TestCase):\n",
    "    \"\"\"Tests for 'Employee'.\"\"\"\n",
    "    def setUp(self):\n",
    "        self.employee = Employee('Bob', 'Marley', 0)\n",
    "        \n",
    "    def test_give_default_raise(self):\n",
    "        \"\"\"Does the default raise work\"\"\"\n",
    "        salary = self.employee.annual_salary\n",
    "        self.employee.give_raise()\n",
    "        self.assertEqual(self.employee.annual_salary - salary, 5000)\n",
    "        \n",
    "    def test_give_custom_raise(self):\n",
    "        \"\"\"Does the default raise work\"\"\"\n",
    "        salary = self.employee.annual_salary\n",
    "        amount = random.randint(2000, 50000)\n",
    "        self.employee.give_raise(amount)\n",
    "        self.assertEqual(self.employee.annual_salary - salary, amount)\n",
    "\n",
    "# For jupyter notebook\n",
    "suite = unittest.TestLoader().loadTestsFromTestCase(EmployeeTestCase)\n",
    "unittest.TextTestRunner().run(suite)"
   ]
  }
 ],
 "metadata": {
  "kernelspec": {
   "display_name": "Python 3",
   "language": "python",
   "name": "python3"
  },
  "language_info": {
   "codemirror_mode": {
    "name": "ipython",
    "version": 3
   },
   "file_extension": ".py",
   "mimetype": "text/x-python",
   "name": "python",
   "nbconvert_exporter": "python",
   "pygments_lexer": "ipython3",
   "version": "3.7.0"
  },
  "livereveal": {
   "slideNumber": true,
   "theme": "sky"
  }
 },
 "nbformat": 4,
 "nbformat_minor": 2
}
