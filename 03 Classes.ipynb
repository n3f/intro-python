{
 "cells": [
  {
   "cell_type": "markdown",
   "metadata": {
    "slideshow": {
     "slide_type": "slide"
    }
   },
   "source": [
    "# Introduction to Python :: Session 3\n",
    "\n",
    "Brent Nef  \n",
    "September 5, 2018"
   ]
  },
  {
   "cell_type": "markdown",
   "metadata": {
    "slideshow": {
     "slide_type": "slide"
    }
   },
   "source": [
    "# Where we are\n",
    "\n",
    "* *We can do Python scripting*\n",
    "   * Python data types (`[]`/`()`/`{}`)\n",
    "   * Loops (`for`/`while`)\n",
    "   * Conditions (`if`/`elif`/`else`)\n",
    "   * Functions (`def`) for reusable code\n",
    "* Has anyone done anything with it yet?"
   ]
  },
  {
   "cell_type": "markdown",
   "metadata": {
    "slideshow": {
     "slide_type": "slide"
    }
   },
   "source": [
    "# TODO\n",
    "\n",
    "1. [Classes](#Classes) - Chapter 9\n",
    "1. [Files and Exceptions](#Files-and-Exceptions) - Chapter 10\n",
    "1. [Testing](#Testing) - Chapter 11\n",
    "1. [Debugging/Logging](#Debugging/Logging)"
   ]
  },
  {
   "cell_type": "markdown",
   "metadata": {
    "slideshow": {
     "slide_type": "slide"
    }
   },
   "source": [
    "## Module search path\n",
    "\n",
    "* Where does Python find modules?"
   ]
  },
  {
   "cell_type": "code",
   "execution_count": null,
   "metadata": {
    "slideshow": {
     "slide_type": "-"
    }
   },
   "outputs": [],
   "source": [
    "import sys\n",
    "from pprint import pprint\n",
    "pprint(sys.path)"
   ]
  },
  {
   "cell_type": "markdown",
   "metadata": {
    "slideshow": {
     "slide_type": "slide"
    }
   },
   "source": [
    "# Classes\n",
    "\n",
    "* In object oriented programming, define classes to represent real-world things and situations\n",
    "* Create objects based on classes\n",
    "* Classes describe the behavior of the objects\n",
    "* You use classes to instantiate an object.  The object created is called an instance.\n"
   ]
  },
  {
   "cell_type": "markdown",
   "metadata": {
    "slideshow": {
     "slide_type": "slide"
    }
   },
   "source": [
    "## Creating a class"
   ]
  },
  {
   "cell_type": "code",
   "execution_count": null,
   "metadata": {
    "slideshow": {
     "slide_type": "-"
    }
   },
   "outputs": [],
   "source": [
    "class Dog():\n",
    "    \"\"\"A simple attempt to model a dog.\"\"\"\n",
    "    \n",
    "    def __init__(self, name, age):               # constructor\n",
    "        \"\"\"Initialize name and age attributes.\"\"\"\n",
    "        self.name = name\n",
    "        self.age = age\n",
    "        \n",
    "    def sit(self):\n",
    "        \"\"\"Simulate a dog sitting in response to a command.\"\"\"\n",
    "        print(self.name.title() + \" is now sitting.\")\n",
    "        \n",
    "    def roll_over(self):\n",
    "        \"\"\"Simulate rolling over in response to a command.\"\"\"\n",
    "        print(self.name.title() + \" rolled over!\")"
   ]
  },
  {
   "cell_type": "markdown",
   "metadata": {
    "slideshow": {
     "slide_type": "slide"
    }
   },
   "source": [
    "## Accessing attributes and methods\n",
    "\n",
    "* Python doesn't need setters/getters and follows the [Uniform Access Principle][uap]\n",
    "   \n",
    "[uap]: https://en.wikipedia.org/wiki/Uniform_access_principle"
   ]
  },
  {
   "cell_type": "code",
   "execution_count": null,
   "metadata": {
    "slideshow": {
     "slide_type": "-"
    }
   },
   "outputs": [],
   "source": [
    "dog = Dog('willie', 3)\n",
    "dog.sit()\n",
    "dog.roll_over()\n",
    "print(dog.name.title(), 'is', dog.age, 'years old')\n",
    "dog.name = 'spot'\n",
    "print(dog.name.title(), 'is', dog.age, 'years old')"
   ]
  },
  {
   "cell_type": "markdown",
   "metadata": {
    "slideshow": {
     "slide_type": "slide"
    }
   },
   "source": [
    "## Private attributes/methods\n",
    "\n",
    "* By convention if you use `_` or `__` in front of your attributes you are signaling that the attributes/methods are private and shouldn't be used\n",
    "* Be careful using double underscores (`__`), Python does some additional naming of the method to maake it less easy to call, but it's still possible\n",
    "* If you need side effects (some other action occuring when an attribute is modified, you can use the `property` object to create a managed object"
   ]
  },
  {
   "cell_type": "code",
   "execution_count": null,
   "metadata": {
    "slideshow": {
     "slide_type": "subslide"
    }
   },
   "outputs": [],
   "source": [
    "class C():\n",
    "    def getx(self): return self._x\n",
    "    def setx(self, value): self._x = value\n",
    "    def delx(self): del self._x\n",
    "    x = property(getx, setx, delx, \"I'm the 'x' property.\")"
   ]
  },
  {
   "cell_type": "code",
   "execution_count": null,
   "metadata": {
    "slideshow": {
     "slide_type": "fragment"
    }
   },
   "outputs": [],
   "source": [
    "# Now you can just modify your instance of C\n",
    "c = C()\n",
    "c.x = 'bob'\n",
    "print(c.x)"
   ]
  },
  {
   "cell_type": "markdown",
   "metadata": {
    "slideshow": {
     "slide_type": "slide"
    }
   },
   "source": [
    "## Modifying attribute values\n",
    "\n",
    "1. Change the attribute directly (`dog.name = 'spot'`)\n",
    "1. Set the value through a method:\n",
    "   ```py\n",
    "   def set_name(self, name):\n",
    "       self.name = name\n",
    "   ```\n",
    "1. Change the value with a method:\n",
    "   ```py\n",
    "   def add_year(self):\n",
    "       self.age += 1\n",
    "   ```"
   ]
  },
  {
   "cell_type": "markdown",
   "metadata": {
    "slideshow": {
     "slide_type": "slide"
    }
   },
   "source": [
    "### 9-4: Number Served\n",
    "\n",
    "* Make a class called Restaurant. The `__init__()` method for\n",
    "Restaurant should store two attributes: a `restaurant_name` and a `cuisine_type`.\n",
    "* Make a method called `describe_restaurant()` that prints these two pieces of\n",
    "information, and a method called `open_restaurant()` that prints a message indicating\n",
    "that the restaurant is open.\n",
    "* Add an attribute called `number_served` with a default value of 0. Create an\n",
    "instance called `restaurant` from this class. Print the number of customers the\n",
    "restaurant has served, and then change this value and print it again.\n",
    "* Add a method called `set_number_served()` that lets you set the number\n",
    "of customers that have been served. Call this method with a new number and\n",
    "print the value again.\n",
    "* Add a method called `increment_number_served()` that lets you increment\n",
    "the number of customers who’ve been served. Call this method with any number\n",
    "you like that could represent how many customers were served in, say, a\n",
    "day of business."
   ]
  },
  {
   "cell_type": "code",
   "execution_count": null,
   "metadata": {
    "slideshow": {
     "slide_type": "-"
    }
   },
   "outputs": [],
   "source": [
    "# Do 9-4"
   ]
  },
  {
   "cell_type": "markdown",
   "metadata": {
    "slideshow": {
     "slide_type": "slide"
    }
   },
   "source": [
    "## Inheritance\n",
    "\n",
    "* You don't always have to start all the way from scratch\n",
    "* Use *inheritance* to reuse classes that share attributes and behavior\n",
    "* The original class is called the *parent*, and the new class is the *child*\n",
    "* The child inherits every attribute and method from the parent"
   ]
  },
  {
   "cell_type": "code",
   "execution_count": null,
   "metadata": {
    "slideshow": {
     "slide_type": "slide"
    }
   },
   "outputs": [],
   "source": [
    "class Car():\n",
    "    \"\"\"A simple attempt to represent a car\"\"\"\n",
    "    def __init__(self, make, model, year):\n",
    "        self.make = make\n",
    "        self.model = model\n",
    "        self.year = year\n",
    "        self.odometer = 0\n",
    "    def increment_odometer(self, miles):\n",
    "        self.odometer += miles"
   ]
  },
  {
   "cell_type": "code",
   "execution_count": null,
   "metadata": {
    "slideshow": {
     "slide_type": "-"
    }
   },
   "outputs": [],
   "source": [
    "class ElectricCar(Car):\n",
    "    \"\"\"this is an electric one\"\"\"\n",
    "    def __init__(self, make, model,year):\n",
    "        super().__init__(make, model, year)\n",
    "        self.charge = 1\n",
    "    def recharge(self):\n",
    "        self.charge = 1"
   ]
  },
  {
   "cell_type": "markdown",
   "metadata": {
    "slideshow": {
     "slide_type": "fragment"
    }
   },
   "source": [
    "* #### How could this be improved?\n",
    "   * *hint: what if you wanted more information about the battery? (range, time till depleted, size, etc.)*"
   ]
  },
  {
   "cell_type": "code",
   "execution_count": null,
   "metadata": {
    "slideshow": {
     "slide_type": "slide"
    }
   },
   "outputs": [],
   "source": [
    "class Battery():\n",
    "    def __init__(self, kwH):\n",
    "        self.kwH = kwH\n",
    "        self.charge = 0\n",
    "    def recharge(self):\n",
    "        self.charge = 1\n",
    "        \n",
    "class ElectricCar(Car):\n",
    "    \"\"\"this is an electric one\"\"\"\n",
    "    def __init__(self, make, model,year):\n",
    "        super().__init__(make, model, year)\n",
    "        self.battery = Battery(90)\n",
    "    def recharge(self):\n",
    "        self.battery.recharge()"
   ]
  },
  {
   "cell_type": "markdown",
   "metadata": {
    "slideshow": {
     "slide_type": "slide"
    }
   },
   "source": [
    "## Override parents method\n",
    "\n",
    "* You don't have to do exactly what your parents do\n",
    "* By redefining the method you can add your own behavior"
   ]
  },
  {
   "cell_type": "code",
   "execution_count": null,
   "metadata": {
    "slideshow": {
     "slide_type": "-"
    }
   },
   "outputs": [],
   "source": [
    "class BrokenCar(Car):\n",
    "    def __init__(self, *args, **kwargs):\n",
    "        super().__init__(*args, **kwargs)\n",
    "    def increment_odometer(self, miles):\n",
    "        self.odometer -= miles\n",
    "\n",
    "broke = BrokenCar('ford','pinto',1970)\n",
    "broke.increment_odometer(10)\n",
    "print('Miles:', broke.odometer)"
   ]
  },
  {
   "cell_type": "markdown",
   "metadata": {
    "slideshow": {
     "slide_type": "slide"
    }
   },
   "source": [
    "### 9-10: Imported Restaurant\n",
    "* Using your latest `Restaurant` class, store it in a module.\n",
    "* Put the ice cream stand in another file\n",
    "* import your ice cream stand here so that this code works:"
   ]
  },
  {
   "cell_type": "code",
   "execution_count": null,
   "metadata": {
    "slideshow": {
     "slide_type": "-"
    }
   },
   "outputs": [],
   "source": [
    "# Do 9-10\n",
    "from ice_cream_stand import IceCreamStand\n",
    "\n",
    "stand = IceCreamStand()\n",
    "stand.describe_restaurant()"
   ]
  },
  {
   "cell_type": "markdown",
   "metadata": {
    "slideshow": {
     "slide_type": "slide"
    }
   },
   "source": [
    "# Python Standard Library\n",
    "\n",
    "* Python comes with a large amount of modules (batteries included)\n",
    "* Now that we know how the modules and classes work we can try to start using some of these predefined classes and functionality\n",
    "* Book has an example describing `OrderedDict`\n",
    "   * Before Python 3.6 dictionaries didn't preserve any order\n",
    "   * Since 3.6, dictionaries are *insertion-ordered*, and `OrderedDict` is only used for backwards compatibility"
   ]
  },
  {
   "cell_type": "markdown",
   "metadata": {
    "slideshow": {
     "slide_type": "slide"
    }
   },
   "source": [
    "## Let's look at a different collections object, <span style=\"text-transform:none\">`defaultdict`</span>\n",
    "\n",
    "* Create a dictionary that provides a default value when key doesn't exist\n",
    "* Adds the key/value pair to the dict"
   ]
  },
  {
   "cell_type": "code",
   "execution_count": null,
   "metadata": {
    "slideshow": {
     "slide_type": "fragment"
    }
   },
   "outputs": [],
   "source": [
    "from collections import defaultdict\n",
    "\n",
    "# Create a dictionary\n",
    "d = defaultdict(list)\n",
    "# d['key'] hasn't been defined yet...\n",
    "for i in d['anything']:\n",
    "    print(i)\n",
    "d"
   ]
  },
  {
   "cell_type": "markdown",
   "metadata": {
    "slideshow": {
     "slide_type": "slide"
    }
   },
   "source": [
    "### 9-14: Dice\n",
    "The module random contains functions that generate random numbers\n",
    "in a variety of ways. The function `randint()` returns an integer in the\n",
    "range you provide. The following code returns a number between 1 and 6:\n",
    "\n",
    "```python\n",
    "from random import randint\n",
    "x = randint(1, 6)\n",
    "```\n",
    "\n",
    "* Make a class Die with one attribute called sides, which has a default\n",
    "value of 6. Write a method called `roll_die()` that prints a random number\n",
    "between 1 and the number of sides the die has. Make a 6-sided die and roll\n",
    "it 10 times.\n",
    "* Make a 10-sided die and a 20-sided die. Roll each die 10 times."
   ]
  },
  {
   "cell_type": "code",
   "execution_count": null,
   "metadata": {
    "slideshow": {
     "slide_type": "skip"
    }
   },
   "outputs": [],
   "source": [
    "# Do 9-14"
   ]
  },
  {
   "cell_type": "markdown",
   "metadata": {
    "slideshow": {
     "slide_type": "slide"
    }
   },
   "source": [
    "# Files and Exceptions\n",
    "\n",
    "* Data needs to come from somewhere, and needs to go somewhere\n",
    "* *Exceptions* are special objects Python creates to manage errors"
   ]
  },
  {
   "cell_type": "markdown",
   "metadata": {
    "slideshow": {
     "slide_type": "slide"
    }
   },
   "source": [
    "## Reading from a file\n",
    "\n",
    "* You can either read the whole file into memory at once, or one line at a time\n",
    "* Pass in a relative or absolute path *(windows paths are different from everyone else)*\n",
    "   * relative (use the current directory as the starting point, `..` to go *up* directories\n",
    "   * absolute: full file name"
   ]
  },
  {
   "cell_type": "code",
   "execution_count": null,
   "metadata": {
    "slideshow": {
     "slide_type": "-"
    }
   },
   "outputs": [],
   "source": [
    "#Using the with statement means you don't have to explicitly close the file\n",
    "with open('pi_digits.txt') as f:\n",
    "    contents = f.read() # Use f.readline or loop `for line in f:`\n",
    "    print(contents)"
   ]
  },
  {
   "cell_type": "markdown",
   "metadata": {
    "slideshow": {
     "slide_type": "slide"
    }
   },
   "source": [
    "## Writing to a file\n",
    "\n",
    "* Use the same `open()` function, but pass in a second argument telling Python you want to write to it (`w`: overwrites file)\n",
    "   * `r` for reading\n",
    "   * `a` for appending\n",
    "   * `r+` for read ***and*** write"
   ]
  },
  {
   "cell_type": "code",
   "execution_count": null,
   "metadata": {
    "slideshow": {
     "slide_type": "-"
    }
   },
   "outputs": [],
   "source": [
    "filename = 'programming.txt'\n",
    "with open(filename, 'w') as f:\n",
    "    f.write('I love programming')\n",
    "\n",
    "!cat programming.txt"
   ]
  },
  {
   "cell_type": "markdown",
   "metadata": {
    "slideshow": {
     "slide_type": "slide"
    }
   },
   "source": [
    "### 10-4: Guest Book\n",
    "\n",
    "* Write a while loop that prompts users for their name. When\n",
    "they enter their name, print a greeting to the screen and add a line recording\n",
    "their visit in a file called `guest_book.txt`.\n",
    "* Make sure each entry appears on a\n",
    "new line in the file."
   ]
  },
  {
   "cell_type": "code",
   "execution_count": null,
   "metadata": {
    "slideshow": {
     "slide_type": "-"
    }
   },
   "outputs": [],
   "source": [
    "# Do 10-4"
   ]
  },
  {
   "cell_type": "markdown",
   "metadata": {
    "slideshow": {
     "slide_type": "slide"
    }
   },
   "source": [
    "# Exceptions\n",
    "\n",
    "* When Python encounters a problem that it doesn't know how to complete it will raise an `Exception` object\n",
    "* If you don't handle the problem, the program is halted and show a traceback\n",
    "* Handle `Exceptions` using a `try/except` block to allow your program to continue running"
   ]
  },
  {
   "cell_type": "code",
   "execution_count": null,
   "metadata": {
    "slideshow": {
     "slide_type": "fragment"
    }
   },
   "outputs": [],
   "source": [
    "try:\n",
    "    print(5/0)\n",
    "except ZeroDivisionError:\n",
    "    print(\"You can't divide by zero!\")"
   ]
  },
  {
   "cell_type": "markdown",
   "metadata": {
    "slideshow": {
     "slide_type": "slide"
    }
   },
   "source": [
    "## Failing silently\n",
    "\n",
    "* use the `pass` statement in the except block to do nothing"
   ]
  },
  {
   "cell_type": "code",
   "execution_count": null,
   "metadata": {
    "slideshow": {
     "slide_type": "-"
    }
   },
   "outputs": [],
   "source": [
    "def count_words(filename):\n",
    "    \"\"\"Count the approximate number of words in a file.\"\"\"\n",
    "    try:\n",
    "        with open(filename) as f_obj:\n",
    "            words = f_obj.read().split()\n",
    "            return len(words)\n",
    "    except FileNotFoundError:\n",
    "        pass # maybe we should return 0?\n",
    "\n",
    "print('There are', count_words('alice.txt'), 'words in Alice in Wonderland')\n",
    "print('how many in non existent file?', count_words('bob.txt'))"
   ]
  },
  {
   "cell_type": "markdown",
   "metadata": {
    "slideshow": {
     "slide_type": "slide"
    }
   },
   "source": [
    "# Storing data\n",
    "\n",
    "* Your program will spend a lot of time creating data structures for processing (e.g. lists, dictionaries)\n",
    "* There are many ways to save that data off, and read it back in\n",
    "* `json` module is a simple method that creates a semi-readable file\n",
    "   * JSON stands for *JavaScript Object Notation*, a portable format that many languages provide support for"
   ]
  },
  {
   "cell_type": "code",
   "execution_count": null,
   "metadata": {
    "slideshow": {
     "slide_type": "slide"
    }
   },
   "outputs": [],
   "source": [
    "import json\n",
    "\n",
    "numbers = [2, 3, 5, 7, 11, 13]\n",
    "\n",
    "filename = 'numbers.json'\n",
    "with open(filename, 'w') as f_obj:\n",
    "    json.dump(numbers, f_obj)\n",
    "    \n",
    "!cat numbers.json"
   ]
  },
  {
   "cell_type": "code",
   "execution_count": null,
   "metadata": {
    "slideshow": {
     "slide_type": "slide"
    }
   },
   "outputs": [],
   "source": [
    "import json\n",
    "\n",
    "numbers = None\n",
    "\n",
    "filename = 'numbers.json'\n",
    "with open(filename) as f:\n",
    "    numbers = json.load(f)\n",
    "\n",
    "print(sum(numbers))"
   ]
  },
  {
   "cell_type": "markdown",
   "metadata": {
    "slideshow": {
     "slide_type": "slide"
    }
   },
   "source": [
    "### 10-11, 10-12: Favorite Number\n",
    "* Write a program that prompts for the user’s favorite\n",
    "number. Use `json.dump()` to store this number in a file. Write a separate program\n",
    "that reads in this value and prints the message, *“I know your favorite\n",
    "number! It’s _____.”*\n",
    "* Combine those two programs into one file. If the number is already stored, report the favorite\n",
    "number to the user. If not, prompt for the user’s favorite number and store it in a\n",
    "file. Run the program twice to see that it works."
   ]
  },
  {
   "cell_type": "code",
   "execution_count": null,
   "metadata": {
    "slideshow": {
     "slide_type": "skip"
    }
   },
   "outputs": [],
   "source": [
    "# Do 10-11, 10-12"
   ]
  },
  {
   "cell_type": "markdown",
   "metadata": {
    "slideshow": {
     "slide_type": "slide"
    }
   },
   "source": [
    "# Testing\n",
    "\n",
    "* When you write code, you can also write tests\n",
    "   * You're going to be testing it anyway, if you can automate your tests, you can always prove that your code still works\n",
    "   * Good programming practice\n",
    "* What a passing test looks like\n",
    "* What a failing test looks like"
   ]
  },
  {
   "cell_type": "markdown",
   "metadata": {
    "slideshow": {
     "slide_type": "slide"
    }
   },
   "source": [
    "## Function to test"
   ]
  },
  {
   "cell_type": "code",
   "execution_count": null,
   "metadata": {
    "slideshow": {
     "slide_type": "-"
    }
   },
   "outputs": [],
   "source": [
    "# name_function.py\n",
    "def get_formatted_name(first, last):\n",
    "    \"\"\"Generate neatly formatted name\"\"\"\n",
    "    full_name = first + ' ' + last\n",
    "    return full_name.title()"
   ]
  },
  {
   "cell_type": "code",
   "execution_count": null,
   "metadata": {
    "slideshow": {
     "slide_type": "-"
    }
   },
   "outputs": [],
   "source": [
    "# names.py\n",
    "print('Enter \"q\" at any time to quit.')\n",
    "while True:\n",
    "    first = input(\"\\nPlease give me a first name: \")\n",
    "    if first == 'q':\n",
    "        break\n",
    "    last = input(\"Please give me a last name: \")\n",
    "    if last == 'q':\n",
    "        break\n",
    "        \n",
    "    formatted_name = get_formatted_name(first, last)\n",
    "    print(\"\\tNeatly formatted name: \" + formatted_name + '.')"
   ]
  },
  {
   "cell_type": "markdown",
   "metadata": {
    "slideshow": {
     "slide_type": "slide"
    }
   },
   "source": [
    "## Module `unittest` from standard library\n",
    "\n",
    "* Provides tools for testing code\n",
    "* *unit test* verifies that one aspect of functions behavior is correct\n",
    "* *test case* is a collection of unit tests to test a function completely"
   ]
  },
  {
   "cell_type": "markdown",
   "metadata": {
    "slideshow": {
     "slide_type": "slide"
    }
   },
   "source": [
    "## Passing test"
   ]
  },
  {
   "cell_type": "code",
   "execution_count": null,
   "metadata": {
    "slideshow": {
     "slide_type": "-"
    }
   },
   "outputs": [],
   "source": [
    "import unittest\n",
    "# This isn't needed because ipython notebook instead of actual module \n",
    "#from name_function import get_formatted_name\n",
    "\n",
    "class NamesTestCase(unittest.TestCase):\n",
    "    \"\"\"Tests for 'name_function.py'.\"\"\"\n",
    "    def test_first_last_name(self):\n",
    "        \"\"\"Do names like 'Janis Joplin' work?\"\"\"\n",
    "        formatted_name = get_formatted_name('janis', 'joplin')\n",
    "        self.assertEqual(formatted_name, 'Janis Joplin')\n",
    "\n",
    "# For jupyter notebook\n",
    "#unittest.main([''], exit=False)\n",
    "suite = unittest.TestLoader().loadTestsFromTestCase(NamesTestCase)\n",
    "unittest.TextTestRunner().run(suite)"
   ]
  },
  {
   "cell_type": "markdown",
   "metadata": {
    "slideshow": {
     "slide_type": "slide"
    }
   },
   "source": [
    "## Failing test"
   ]
  },
  {
   "cell_type": "code",
   "execution_count": null,
   "metadata": {
    "slideshow": {
     "slide_type": "-"
    }
   },
   "outputs": [],
   "source": [
    "def get_formatted_name(first, middle, last):\n",
    "    \"\"\"Generate a neatly formatted full name.\"\"\"\n",
    "    full_name = first + ' ' + middle + ' ' + last\n",
    "    return full_name.title()\n",
    "\n",
    "suite = unittest.TestLoader().loadTestsFromTestCase(NamesTestCase)\n",
    "unittest.TextTestRunner().run(suite)"
   ]
  },
  {
   "cell_type": "markdown",
   "metadata": {
    "slideshow": {
     "slide_type": "slide"
    }
   },
   "source": [
    "## Fix the code, not the test\n",
    "\n",
    "* After you have a passing test, the problem isn't with the test code\n",
    "* `get_formatted_name` requires 3 positional arguments now, but it should accept only 2\n",
    "* How do we fix?"
   ]
  },
  {
   "cell_type": "code",
   "execution_count": null,
   "metadata": {
    "scrolled": true,
    "slideshow": {
     "slide_type": "fragment"
    }
   },
   "outputs": [],
   "source": [
    "def get_formatted_name(first, last, middle=''):\n",
    "    \"\"\"Generate a neatly formatted full name.\"\"\"\n",
    "    if middle:\n",
    "        full_name = first + ' ' + middle + ' ' + last\n",
    "    else:\n",
    "        full_name = first + ' ' + last\n",
    "    return full_name.title()\n",
    "\n",
    "suite = unittest.TestLoader().loadTestsFromTestCase(NamesTestCase)\n",
    "unittest.TextTestRunner().run(suite)"
   ]
  },
  {
   "cell_type": "markdown",
   "metadata": {
    "slideshow": {
     "slide_type": "slide"
    }
   },
   "source": [
    "## Adding new tests\n",
    "\n",
    "* Add another method to the NamesTestCase"
   ]
  },
  {
   "cell_type": "code",
   "execution_count": null,
   "metadata": {
    "slideshow": {
     "slide_type": "slide"
    }
   },
   "outputs": [],
   "source": [
    "class NamesTestCase(unittest.TestCase):\n",
    "    \"\"\"Tests for 'name_function.py'.\"\"\"\n",
    "    def test_first_last_name(self):\n",
    "        \"\"\"Do names like 'Janis Joplin' work?\"\"\"\n",
    "        formatted_name = get_formatted_name('janis', 'joplin')\n",
    "        self.assertEqual(formatted_name, 'Janis Joplin')\n",
    "        \n",
    "    def test_first_last_middle_name(self):\n",
    "        \"\"\"Do names like 'Wolfgang Amadeus Mozart' work?\"\"\"\n",
    "        formatted_name = get_formatted_name('wolfgang', 'mozart', 'amadeus')\n",
    "        self.assertEqual(formatted_name, 'Wolfgang Amadeus Mozart')\n",
    "\n",
    "suite = unittest.TestLoader().loadTestsFromTestCase(NamesTestCase)\n",
    "unittest.TextTestRunner().run(suite)"
   ]
  },
  {
   "cell_type": "markdown",
   "metadata": {
    "slideshow": {
     "slide_type": "slide"
    }
   },
   "source": [
    "## Asserts\n",
    "\n",
    "* `unittest` provides a number of asserts\n",
    "   * `assertEquals(a, b)`: a == b\n",
    "   * `assertNotEquals(a, b)`: a != b\n",
    "   * `assertTrue(x)`: *`x`* is `True`\n",
    "   * `assertFalse(x)`: *`x`* is `False`\n",
    "   * `assertIn(item, list)`: *`item`* is in *`list`*\n",
    "   * `assertNotIn(item, list)`: ❓❓❓❓"
   ]
  },
  {
   "cell_type": "markdown",
   "metadata": {
    "slideshow": {
     "slide_type": "slide"
    }
   },
   "source": [
    "## Testing a Class\n",
    "\n",
    "* Pretty much the same\n",
    "* If your class requires some initial configuration used for all the tests, consider using a `setUp` method"
   ]
  },
  {
   "cell_type": "code",
   "execution_count": null,
   "metadata": {
    "slideshow": {
     "slide_type": "-"
    }
   },
   "outputs": [],
   "source": [
    "!cat survey.py"
   ]
  },
  {
   "cell_type": "code",
   "execution_count": null,
   "metadata": {
    "slideshow": {
     "slide_type": "slide"
    }
   },
   "outputs": [],
   "source": [
    "from survey import AnonymousSurvey\n",
    "\n",
    "# Define a question, and make a survey.\n",
    "question = \"What language did you first learn to speak?\"\n",
    "my_survey = AnonymousSurvey(question)\n",
    "\n",
    "# Show the question, and store responses to the question.\n",
    "my_survey.show_question()\n",
    "print(\"Enter 'q' at any time to quit.\\n\")\n",
    "\n",
    "while True:\n",
    "    response = input(\"Language: \")\n",
    "    if response == 'q':\n",
    "        break\n",
    "    my_survey.store_response(response)\n",
    "\n",
    "# Show the survey results.\n",
    "print(\"\\nThank you to everyone who participated in the survey!\")\n",
    "my_survey.show_results()"
   ]
  },
  {
   "cell_type": "code",
   "execution_count": null,
   "metadata": {
    "slideshow": {
     "slide_type": "slide"
    }
   },
   "outputs": [],
   "source": [
    "!cat test_survey.py"
   ]
  },
  {
   "cell_type": "code",
   "execution_count": null,
   "metadata": {
    "slideshow": {
     "slide_type": "slide"
    }
   },
   "outputs": [],
   "source": [
    "!python test_survey.py"
   ]
  },
  {
   "cell_type": "markdown",
   "metadata": {
    "slideshow": {
     "slide_type": "slide"
    }
   },
   "source": [
    "### 11-3: Employee\n",
    "* Write a class called `Employee`. The `__init__()` method should\n",
    "take in a first name, a last name, and an annual salary, and store each of these\n",
    "as attributes.\n",
    "* Write a method called `give_raise()` that adds \\$5000 to the\n",
    "annual salary by default but also accepts a different raise amount.\n",
    "* Write a test case for `Employee`. Write two test methods, `test_give_default_raise()` and `test_give_custom_raise()`. Use the `setUp()` method so you don’t have to create a new employee instance in each test method.\n",
    "* Run your test case, and make sure both tests pass."
   ]
  },
  {
   "cell_type": "code",
   "execution_count": null,
   "metadata": {
    "slideshow": {
     "slide_type": "skip"
    }
   },
   "outputs": [],
   "source": [
    "# Do 11-3"
   ]
  },
  {
   "cell_type": "markdown",
   "metadata": {
    "slideshow": {
     "slide_type": "slide"
    }
   },
   "source": [
    "## Other test tools\n",
    "\n",
    "* `doctest` (included)\n",
    "* `nose` (pip)\n",
    "* `pytest` (pip)\n",
    "\n",
    "## Continuous Integration\n",
    "\n",
    "* buildbot\n",
    "* jenkins\n",
    "* travis-ci"
   ]
  },
  {
   "cell_type": "markdown",
   "metadata": {
    "slideshow": {
     "slide_type": "slide"
    }
   },
   "source": [
    "## <span style=\"text-transform:none\">`doctest`</span>"
   ]
  },
  {
   "cell_type": "code",
   "execution_count": null,
   "metadata": {
    "slideshow": {
     "slide_type": "-"
    }
   },
   "outputs": [],
   "source": [
    "from string import ascii_lowercase as letters\n",
    "def count_most_common_letter(text):\n",
    "    \"\"\"Return the count of the most common letter\n",
    "    \n",
    "    >>> count_most_common_letter('aabbcc')\n",
    "    'a'\n",
    "    >>> count_most_common_letter('bbcccaa')\n",
    "    'c'\n",
    "    \"\"\"\n",
    "    return max(letters, key=text.lower().count)\n",
    "\n",
    "import doctest\n",
    "doctest.run_docstring_examples(count_most_common_letter, globals(), verbose=True)"
   ]
  },
  {
   "cell_type": "markdown",
   "metadata": {
    "slideshow": {
     "slide_type": "slide"
    }
   },
   "source": [
    "## Thoughts about testing\n",
    "\n",
    "* You don't have to create tests for all the code your write\n",
    "* If you're coding something that takes significant effort, you should be writing tests\n",
    "* You'll know immediately if you've broken existing functionality"
   ]
  },
  {
   "cell_type": "markdown",
   "metadata": {
    "slideshow": {
     "slide_type": "slide"
    }
   },
   "source": [
    "# Debugging/Logging\n",
    "\n",
    "* Some helpful hints you can use while debugging\n",
    "* Try an IDE which will let you set breakpoints and inspect variables as you are running the code\n",
    "* For other cases..."
   ]
  },
  {
   "cell_type": "markdown",
   "metadata": {
    "slideshow": {
     "slide_type": "slide"
    }
   },
   "source": [
    "## Output your variables manually\n",
    "\n",
    "* `vars()` function extracts the values of all the local variables (including arguments)"
   ]
  },
  {
   "cell_type": "code",
   "execution_count": null,
   "metadata": {
    "slideshow": {
     "slide_type": "-"
    }
   },
   "outputs": [],
   "source": [
    "from pprint import pprint\n",
    "def my_buggy_function(*args, **kwargs):\n",
    "    bob = 1\n",
    "    pprint(vars(), width=20)\n",
    "my_buggy_function('a','b','c', test=1,a=2,b=3)"
   ]
  },
  {
   "cell_type": "markdown",
   "metadata": {
    "slideshow": {
     "slide_type": "slide"
    }
   },
   "source": [
    "## Logging\n",
    "\n",
    "* Instead of using print statements use the logging library\n",
    "   * Set the level of your messages based on their context: (CRITICAL, ERROR, WARNING, INFO, DEBUG, NOTSET)\n",
    "   * Change how the logging message is displayed (function, method, timestamp, etc.)\n",
    "   * Change where the logging message is sent (standard out, file, etc.)"
   ]
  },
  {
   "cell_type": "code",
   "execution_count": null,
   "metadata": {
    "slideshow": {
     "slide_type": "-"
    }
   },
   "outputs": [],
   "source": [
    "import logging\n",
    "logger = logging.getLogger()\n",
    "logger.setLevel(logging.DEBUG)\n",
    "logging.log(0, \"log\")\n",
    "logging.debug(\"test\")\n",
    "logging.error(\"error\")"
   ]
  },
  {
   "cell_type": "markdown",
   "metadata": {
    "slideshow": {
     "slide_type": "slide"
    }
   },
   "source": [
    "# Thoughts/Questions/Concerns\n",
    "\n",
    "* Next Week:\n",
    "   * PEP 8 (in chapter 4)\n",
    "   * Systems\n",
    "   * Concurrency\n",
    "   * Networking\n",
    "   * Pyenv/pipenv\n",
    "* Anything that needs more attention?"
   ]
  }
 ],
 "metadata": {
  "kernelspec": {
   "display_name": "Python 3",
   "language": "python",
   "name": "python3"
  },
  "language_info": {
   "codemirror_mode": {
    "name": "ipython",
    "version": 3
   },
   "file_extension": ".py",
   "mimetype": "text/x-python",
   "name": "python",
   "nbconvert_exporter": "python",
   "pygments_lexer": "ipython3",
   "version": "3.7.0"
  },
  "livereveal": {
   "slideNumber": false,
   "theme": "sky"
  }
 },
 "nbformat": 4,
 "nbformat_minor": 2
}
