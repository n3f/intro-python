{
 "cells": [
  {
   "cell_type": "markdown",
   "metadata": {},
   "source": [
    "# Introduction to Python Class\n",
    "\n",
    "## Get a working python installation\n",
    "\n",
    "### Jupyter Notebook\n",
    "\n",
    "Easiest is to probably use the notebooks as provided in the class.  They will be running until the end of class.\n",
    "\n",
    "### Miniconda\n",
    "\n",
    "[Miniconda] is a minimal installation of the anaconda software.  Instead of downloading all the scientific packages that you probably don't need right off the bat, you just get a simple installation utility that you can install on Windows, OSX, or Linux.\n",
    "\n",
    "[Miniconda]: https://conda.io/miniconda.html\n",
    "\n",
    "1. [Download][Miniconda]\n",
    "\n",
    "   * Install just for the current user\n",
    "   * Put conda on the PATH\n",
    "   \n",
    "1. After installation, open a command prompt (Windows key + x) and choose `\"Command prompt\"`, then type:\n",
    "   1. Create a virtual environment for the class where you can install libraries and not be afraid of messing anything up:\n",
    "      \n",
    "      ```sh\n",
    "      conda create -n intro2018 python jupyter\n",
    "      ```\n",
    "      \n",
    "      If you install the `spyder` package, typing `spyder` will open an IDE that you can use to program in python. Other IDE's that are good:\n",
    "      * VS Code\n",
    "      * PyCharm\n",
    "      * Atom\n",
    "      * Gvim\n",
    "      \n",
    "   1. \"Turn on\" the virtual enviornment:\n",
    "   \n",
    "      ```\n",
    "      activate intro2018\n",
    "      ```\n",
    "      \n",
    "   1. Start the notebook software in a browser interface:\n",
    "   \n",
    "      ```\n",
    "      jupyter notebook\n",
    "      ```\n",
    "\n",
    "## Get the code\n",
    " \n",
    "You can download the code directly from the github website using git software, or you can browse the branches in a web browser and cherry pick the files that you want.\n",
    " \n",
    "### Git\n",
    " \n",
    "Run `git clone https://github.com/n3f/intro-python.git`.  Each of the class sessions is stored in a branch which you can access by \"checking out\" (e.g. `git checkout session01`).  Find a list of branches by using `git branch -a`.\n"
   ]
  }
 ],
 "metadata": {
  "kernelspec": {
   "display_name": "Python 3",
   "language": "python",
   "name": "python3"
  },
  "language_info": {
   "codemirror_mode": {
    "name": "ipython",
    "version": 3
   },
   "file_extension": ".py",
   "mimetype": "text/x-python",
   "name": "python",
   "nbconvert_exporter": "python",
   "pygments_lexer": "ipython3",
   "version": "3.7.0"
  }
 },
 "nbformat": 4,
 "nbformat_minor": 2
}
