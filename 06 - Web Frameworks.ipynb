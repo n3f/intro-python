{
 "cells": [
  {
   "cell_type": "markdown",
   "metadata": {
    "slideshow": {
     "slide_type": "slide"
    }
   },
   "source": [
    "# Introduction to Python :: Session 6\n",
    "\n",
    "Brent Nef  \n",
    "September 26, 2018\n",
    "\n",
    "* <https://github.com/n3f/intro-python/tree/session06>\n",
    "* <https://github.com/n3f/pcc-django>"
   ]
  },
  {
   "cell_type": "markdown",
   "metadata": {
    "slideshow": {
     "slide_type": "slide"
    }
   },
   "source": [
    "## Jupyter on home PC\n",
    "\n",
    "* install miniconda\n",
    "* `conda create -n <some-name> python jupyter git`\n",
    "* `activate <some-name>` or `conda activate <some-name>`\n",
    "* `git clone https://github.com/n3f/intro-python.git`\n",
    "* Check out the session you want to see (e.g. session06): `git checkout session06`\n",
    "* `jupyter notebook`"
   ]
  },
  {
   "cell_type": "markdown",
   "metadata": {
    "slideshow": {
     "slide_type": "slide"
    }
   },
   "source": [
    "# What we're building\n",
    "\n",
    "> We’ll write a web app called Learning Log that allows users to\n",
    "log the topics they’re interested in and to make journal entries\n",
    "as they learn about each topic. The Learning Log home page\n",
    "should describe the site and invite users to either register or log\n",
    "in. Once logged in, a user should be able to create new topics,\n",
    "add new entries, and read and edit existing entries."
   ]
  },
  {
   "cell_type": "markdown",
   "metadata": {
    "slideshow": {
     "slide_type": "slide"
    }
   },
   "source": [
    "# Create environment\n",
    "\n",
    "```sh\n",
    "conda create -n djangoEnv python django ipython\n",
    "# ... stuff ...\n",
    "conda activate djangoEnv\n",
    "```\n",
    "\n",
    "* You can optionally pass in the versions that you want to install if you needed to for example reproduce a bug (e.g. python==3.6.1, django==1.8.10)\n",
    "* The `pipenv` project helps to create reproducible application environments, but I haven't had the greatest experience with it"
   ]
  },
  {
   "cell_type": "markdown",
   "metadata": {
    "slideshow": {
     "slide_type": "slide"
    }
   },
   "source": [
    "## More Environments\n",
    "\n",
    "* If you are using pip you put your packages into `requirements.txt`\n",
    "* Conda uses any file, but I like `environment.yml`\n",
    "* If you had the following in `environment.yml` you would create with `conda create --file environment.yml`\n",
    "\n",
    "  ```yml\n",
    "  name: djangoEnv\n",
    "  dependencies:\n",
    "  - python>=3.5\n",
    "  - ipython\n",
    "  - django\n",
    "  ```"
   ]
  },
  {
   "cell_type": "markdown",
   "metadata": {
    "slideshow": {
     "slide_type": "slide"
    }
   },
   "source": [
    "# Getting started with Django\n",
    "\n",
    "## Create project\n",
    "\n",
    "```sh\n",
    "django-admin startproject learning_log . # Don't miss the dot!\n",
    "```"
   ]
  },
  {
   "cell_type": "markdown",
   "metadata": {
    "slideshow": {
     "slide_type": "skip"
    }
   },
   "source": [
    "## Created files\n",
    "\n",
    "```\n",
    "(djangoEnv) C:\\Users\\brent.nef\\Documents\\intro-python\\django>dir /b\n",
    "learning_log\n",
    "manage.py\n",
    "\n",
    "(djangoEnv) C:\\Users\\brent.nef\\Documents\\intro-python\\django>dir /b learning_log\n",
    "settings.py\n",
    "urls.py\n",
    "wsgi.py\n",
    "__init__.py\n",
    "```"
   ]
  },
  {
   "cell_type": "markdown",
   "metadata": {
    "slideshow": {
     "slide_type": "slide"
    }
   },
   "source": [
    "## Create the database\n",
    "\n",
    "```sh\n",
    "python manage.py migrate\n",
    "```\n",
    "\n",
    "* Django manages your database changes for you (you can change this or use a different database or a different ORM, but you *are* using django for a reason...\n",
    "* Database changes are called migrations.  This first migration makes the database match the current project structure"
   ]
  },
  {
   "cell_type": "markdown",
   "metadata": {
    "slideshow": {
     "slide_type": "skip"
    }
   },
   "source": [
    "```\n",
    "(djangoEnv) C:\\Users\\brent.nef\\Documents\\intro-python\\django>python manage.py migrate\n",
    "Operations to perform:\n",
    "  Apply all migrations: admin, auth, contenttypes, sessions\n",
    "Running migrations:\n",
    "  Applying contenttypes.0001_initial... OK\n",
    "  Applying auth.0001_initial... OK\n",
    "  Applying admin.0001_initial... OK\n",
    "  Applying admin.0002_logentry_remove_auto_add... OK\n",
    "  Applying admin.0003_logentry_add_action_flag_choices... OK\n",
    "  Applying contenttypes.0002_remove_content_type_name... OK\n",
    "  Applying auth.0002_alter_permission_name_max_length... OK\n",
    "  Applying auth.0003_alter_user_email_max_length... OK\n",
    "  Applying auth.0004_alter_user_username_opts... OK\n",
    "  Applying auth.0005_alter_user_last_login_null... OK\n",
    "  Applying auth.0006_require_contenttypes_0002... OK\n",
    "  Applying auth.0007_alter_validators_add_error_messages... OK\n",
    "  Applying auth.0008_alter_user_username_max_length... OK\n",
    "  Applying auth.0009_alter_user_last_name_max_length... OK\n",
    "  Applying sessions.0001_initial... OK\n",
    "\n",
    "(djangoEnv) C:\\Users\\brent.nef\\Documents\\intro-python\\django>dir /b\n",
    "db.sqlite3\n",
    "learning_log\n",
    "manage.py\n",
    "```"
   ]
  },
  {
   "cell_type": "markdown",
   "metadata": {
    "slideshow": {
     "slide_type": "slide"
    }
   },
   "source": [
    "## Running django\n",
    "\n",
    "```sh\n",
    "python manage.py runserver\n",
    "```\n",
    "\n",
    "* OK, we can go home now right?"
   ]
  },
  {
   "cell_type": "markdown",
   "metadata": {
    "slideshow": {
     "slide_type": "fragment"
    }
   },
   "source": [
    "# Creating an app\n",
    "\n",
    "```sh\n",
    "python manage.py startapp learning_logs\n",
    "```"
   ]
  },
  {
   "cell_type": "markdown",
   "metadata": {
    "slideshow": {
     "slide_type": "slide"
    }
   },
   "source": [
    "## Defining models\n",
    "\n",
    "* The objects that you want your application to use need to be defined as django *models*\n",
    "* Use the django `Model` as a base class, lets django know how to interface with your object\n",
    "   * by following a couple rules here you get a full database interface without having to manage much"
   ]
  },
  {
   "cell_type": "code",
   "execution_count": null,
   "metadata": {
    "slideshow": {
     "slide_type": "-"
    }
   },
   "outputs": [],
   "source": [
    "class Topic(models.Model):\n",
    "    \"\"\"A topic the user is learning about\"\"\"\n",
    "    text = models.CharField(max_length=200)\n",
    "    date_added = models.DateTimeField(auto_now_add=True)\n",
    "    \n",
    "    def __str__(self):\n",
    "        \"\"\"Return a string representation of the model.\"\"\"\n",
    "        return self.text"
   ]
  },
  {
   "cell_type": "markdown",
   "metadata": {
    "slideshow": {
     "slide_type": "slide"
    }
   },
   "source": [
    "## Model reference & Django documentation\n",
    "\n",
    "* Field types: <https://docs.djangoproject.com/en/2.1/ref/models/fields/#field-types>"
   ]
  },
  {
   "cell_type": "markdown",
   "metadata": {
    "slideshow": {
     "slide_type": "slide"
    }
   },
   "source": [
    "## Activating models\n",
    "\n",
    "* modify `settings.py` and add our app to the list of `INSTALLED_APPS`\n",
    "* Steps you always do after modifying `models.py`:\n",
    "   1. make migrations: `python manage.py makemigrations learning_logs`\n",
    "   1. apply migrations: *same as before: `python manage.py migrate`*"
   ]
  },
  {
   "cell_type": "markdown",
   "metadata": {
    "slideshow": {
     "slide_type": "slide"
    }
   },
   "source": [
    "# Django Admin\n",
    "\n",
    "* sweet management interface you get for free\n",
    "* first need to create a superuser: `python manage.py createsuperuser`\n",
    "* Add your models in `admin.py`:"
   ]
  },
  {
   "cell_type": "code",
   "execution_count": null,
   "metadata": {
    "slideshow": {
     "slide_type": "-"
    }
   },
   "outputs": [],
   "source": [
    "from django.contrib import admin\n",
    "from .models import Topic\n",
    "\n",
    "# Register your models here.\n",
    "admin.site.register(Topic)"
   ]
  },
  {
   "cell_type": "markdown",
   "metadata": {
    "slideshow": {
     "slide_type": "-"
    }
   },
   "source": [
    "##### Go check it out"
   ]
  },
  {
   "cell_type": "markdown",
   "metadata": {
    "slideshow": {
     "slide_type": "slide"
    }
   },
   "source": [
    "## Add Entry model"
   ]
  },
  {
   "cell_type": "code",
   "execution_count": null,
   "metadata": {
    "slideshow": {
     "slide_type": "-"
    }
   },
   "outputs": [],
   "source": [
    "class Entry(models.Model):\n",
    "    \"\"\"Something specific learned about a topic\"\"\"\n",
    "    topic = models.ForeignKey(Topic, on_delete=models.SET_NULL, null=True)\n",
    "    text = models.TextField()\n",
    "    date_added = models.DateTimeField(auto_now_add=True)\n",
    "    \n",
    "    class Meta:\n",
    "        verbose_name_plural = 'entries'\n",
    "    \n",
    "    def __str__(self):\n",
    "        \"\"\"Return a string representation of the model.\"\"\"\n",
    "        return self.text[:50] + \"...\""
   ]
  },
  {
   "cell_type": "markdown",
   "metadata": {
    "slideshow": {
     "slide_type": "slide"
    }
   },
   "source": [
    "# Django shell\n",
    "\n",
    "* REPL interface to django\n",
    "* Makes it easy to query elements, inspect data, and try code that you want to use\n",
    "* `python manage.py shell`\n",
    "   * `Topic.objects.all()`, `Topic.objects.get(id=1)`, `t.entry_set.all()`"
   ]
  },
  {
   "cell_type": "markdown",
   "metadata": {
    "slideshow": {
     "slide_type": "slide"
    }
   },
   "source": [
    "# Creating pages\n",
    "\n",
    "1. Define the URL\n",
    "1. Write the view\n",
    "1. Write the template"
   ]
  },
  {
   "cell_type": "markdown",
   "metadata": {
    "slideshow": {
     "slide_type": "slide"
    }
   },
   "source": [
    "## Defining the URL\n",
    "\n",
    "* Create a pattern for a url that you want to respond to and point to a *view* (this is just a function)\n",
    "* URLs are defined in the `urls.py` files:\n",
    "   * Add `path(r'', include('learning_logs.urls'),` to the project `urls.py` *(You also have to add the `include` function to the `django.urls` import command)*"
   ]
  },
  {
   "cell_type": "code",
   "execution_count": null,
   "metadata": {},
   "outputs": [],
   "source": [
    "\"\"\"Defines URL patterns for learning_logs.\"\"\"\n",
    "from django.conf.urls import url\n",
    "from . import views\n",
    "\n",
    "app_name = 'learning_logs'\n",
    "urlpatterns = [\n",
    "    # Home page\n",
    "    url(r'^$', views.index, name='index'),\n",
    "]"
   ]
  },
  {
   "cell_type": "markdown",
   "metadata": {
    "slideshow": {
     "slide_type": "slide"
    }
   },
   "source": [
    "## Writing a view"
   ]
  },
  {
   "cell_type": "code",
   "execution_count": null,
   "metadata": {},
   "outputs": [],
   "source": [
    "def index(request):\n",
    "    \"\"\"The home page for Learning Log\"\"\"\n",
    "    return render(request, 'learning_logs/index.html')"
   ]
  },
  {
   "cell_type": "markdown",
   "metadata": {
    "slideshow": {
     "slide_type": "slide"
    }
   },
   "source": [
    "## Writing a template\n",
    "\n",
    "* Create a folder structure so that: `<djangoroot>/learning_logs/templates/learning_logs`\n",
    "   * `templates` is a *well known location*, but the other `learning_logs` folder makes in unambiguous which application your template is from, and is a best practice\n",
    "\n",
    "### index.html\n",
    "```html\n",
    "<p>Learning Log</p>\n",
    "<p>Learning Log helps you keep track of your learning, for any topic you're\n",
    "learning about.</p>\n",
    "```"
   ]
  },
  {
   "cell_type": "markdown",
   "metadata": {
    "slideshow": {
     "slide_type": "slide"
    }
   },
   "source": [
    "### Template inheritance\n",
    "\n",
    "* Many of your sites pages will probably look similar.  Templates provide inheritance allowing you to build off of other previously created templates\n",
    "\n",
    "#### `base.html`\n",
    "\n",
    "```html\n",
    "<p>\n",
    "  <a href=\"{% url 'learning_logs:index' %}\">Learning Log</a>\n",
    "</p>\n",
    "{% block content %}{% endblock content %}\n",
    "```\n",
    "\n",
    "#### `index.html`\n",
    "```html\n",
    "{% extends \"learning_logs/base.html\" %}\n",
    "{% block content %}\n",
    "<p>Learning Log helps you keep track of your learning, for any topic you're\n",
    "learning about.</p>\n",
    "{% endblock content %}\n",
    "```"
   ]
  },
  {
   "cell_type": "markdown",
   "metadata": {
    "slideshow": {
     "slide_type": "slide"
    }
   },
   "source": [
    "### Topics pages\n",
    "\n",
    "1. List all topics\n",
    "1. Display entries for a topic"
   ]
  },
  {
   "cell_type": "markdown",
   "metadata": {
    "slideshow": {
     "slide_type": "slide"
    }
   },
   "source": [
    "#### List all topics\n",
    "\n",
    "* Update our urls: `url(r'^topics/$', views.topics, name='topics'),`"
   ]
  },
  {
   "cell_type": "code",
   "execution_count": null,
   "metadata": {
    "slideshow": {
     "slide_type": "-"
    }
   },
   "outputs": [],
   "source": [
    "def topics(request):\n",
    "    \"\"\"Show all topics.\"\"\"\n",
    "    topics = Topic.objects.order_by('date_added')\n",
    "    context = {'topics': topics}\n",
    "    return render(request, 'learning_logs/topics.html', context)"
   ]
  },
  {
   "cell_type": "markdown",
   "metadata": {
    "slideshow": {
     "slide_type": "slide"
    }
   },
   "source": [
    "#### `topics.html`\n",
    "\n",
    "```html\n",
    "{% extends \"learning_logs/base.html\" %}\n",
    "{% block content %}\n",
    "<p>Topics</p>\n",
    "<ul>\n",
    "{% for topic in topics %}\n",
    "  <li>{{ topic }}</li>\n",
    "{% empty %}\n",
    "  <li>No topics have been added yet.</li>\n",
    "{% endfor %}\n",
    "</ul>\n",
    "{% endblock content %}\n",
    "```"
   ]
  },
  {
   "cell_type": "markdown",
   "metadata": {
    "slideshow": {
     "slide_type": "slide"
    }
   },
   "source": [
    "### List single topic\n",
    "\n",
    "* Update url: `url(r'^topics/(?P<topic_id>\\d+)/$', views.topic, name='topic'),`"
   ]
  },
  {
   "cell_type": "code",
   "execution_count": null,
   "metadata": {},
   "outputs": [],
   "source": [
    "def topic(request, topic_id):\n",
    "    \"\"\"Show a single topic and all its entries.\"\"\"\n",
    "    topic = Topic.objects.get(id=topic_id)\n",
    "    entries = topic.entry_set.order_by('-date_added')\n",
    "    context = {'topic': topic, 'entries': entries}\n",
    "    return render(request, 'learning_logs/topic.html', context)"
   ]
  },
  {
   "cell_type": "markdown",
   "metadata": {
    "slideshow": {
     "slide_type": "slide"
    }
   },
   "source": [
    "#### `topic.html`\n",
    "```html\n",
    "{% extends 'learning_logs/base.html' %}\n",
    "{% block content %}\n",
    "<p>Topic: {{ topic }}</p>\n",
    "<p>Entries:</p>\n",
    "<ul>\n",
    "{% for entry in entries %}\n",
    "  <li>\n",
    "  <p>{{ entry.date_added|date:'M d, Y H:i' }}</p>\n",
    "  <p>{{ entry.text|linebreaks }}</p>\n",
    "  </li>\n",
    "{% empty %}\n",
    "  <li>\n",
    "  There are no entries for this topic yet.\n",
    "  </li>\n",
    "{% endfor %}\n",
    "</ul>\n",
    "{% endblock content %}\n",
    "```\n",
    "\n",
    "#### Add link in `topics.html`\n",
    "```html\n",
    "<li>\n",
    "  <a href=\"{% url 'learning_logs:topic' topic.id %}\">{{ topic }}</a>\n",
    "</li>\n",
    "```"
   ]
  },
  {
   "cell_type": "markdown",
   "metadata": {
    "slideshow": {
     "slide_type": "slide"
    }
   },
   "source": [
    "# User Accounts\n",
    "\n",
    "* Possible to grant access of the admin site to other users (where we can add topics/entries)\n",
    "* Possible to create specific views to do as well\n",
    "   * Create form using `ModelForm` class"
   ]
  },
  {
   "cell_type": "markdown",
   "metadata": {
    "slideshow": {
     "slide_type": "slide"
    }
   },
   "source": [
    "## Topics `ModelForm`\n",
    "\n",
    "### `forms.py`"
   ]
  },
  {
   "cell_type": "code",
   "execution_count": null,
   "metadata": {
    "slideshow": {
     "slide_type": "-"
    }
   },
   "outputs": [],
   "source": [
    "from django import forms\n",
    "from .models import Topic\n",
    "\n",
    "class TopicForm(forms.ModelForm):\n",
    "    class Meta:\n",
    "        model = Topic\n",
    "        fields = ['text']\n",
    "        labels = {'text': ''}"
   ]
  },
  {
   "cell_type": "markdown",
   "metadata": {},
   "source": [
    "* url: `url(r'^new_topic/$', views.new_topic, name='new_topic'),`"
   ]
  },
  {
   "cell_type": "code",
   "execution_count": null,
   "metadata": {
    "slideshow": {
     "slide_type": "slide"
    }
   },
   "outputs": [],
   "source": [
    "from django.http import HttpResponseRedirect\n",
    "from django.urls import reverse\n",
    "\n",
    "def new_topic(request):\n",
    "    \"\"\"Add a new topic.\"\"\"\n",
    "    if request.method != 'POST':\n",
    "        # No data submitted; create a blank form.\n",
    "        form = TopicForm()\n",
    "    else:\n",
    "        # POST data submitted; process data.\n",
    "        form = TopicForm(request.POST)\n",
    "    if form.is_valid():\n",
    "        form.save()\n",
    "        return HttpResponseRedirect(reverse('learning_logs:topics'))\n",
    "    context = {'form': form}\n",
    "    return render(request, 'learning_logs/new_topic.html', context)"
   ]
  },
  {
   "cell_type": "markdown",
   "metadata": {
    "slideshow": {
     "slide_type": "slide"
    }
   },
   "source": [
    "#### `new_topic.html`\n",
    "\n",
    "```html\n",
    "{% extends \"learning_logs/base.html\" %}\n",
    "\n",
    "{% block content %}\n",
    "<p>Add a new topic:</p>\n",
    "\n",
    "<form action=\"{% url 'learning_logs:new_topic' %}\" method='post'>\n",
    "  {% csrf_token %}\n",
    "  {{ form.as_p }}\n",
    "  <button name=\"submit\">add topic</button>\n",
    "</form>\n",
    "\n",
    "{% endblock content %}\n",
    "```\n",
    "\n",
    "#### `topics.html`\n",
    "\n",
    "`<a href=\"{% url 'learning_logs:new_topic' %}\">Add a new topic:</a>`"
   ]
  },
  {
   "cell_type": "markdown",
   "metadata": {
    "slideshow": {
     "slide_type": "slide"
    }
   },
   "source": [
    "## Entries\n",
    "\n",
    "* Now I'm going to cheat a little and fast-forward\n",
    "* Follow similar pattern for viewing entries (`new_entry.html`)\n",
    "* Add additional url/view/template for editing entries (`edit_entry.html`)"
   ]
  },
  {
   "cell_type": "markdown",
   "metadata": {
    "slideshow": {
     "slide_type": "slide"
    }
   },
   "source": [
    "# Creating user accounts\n",
    "\n",
    "* We'll create a new app for managing users: `python manage.py startapp users`\n",
    "   * Add `users` to `settings.py`\n",
    "   * Add `users.urls` to `urls.py`\n",
    "* Create a login page"
   ]
  },
  {
   "cell_type": "markdown",
   "metadata": {
    "slideshow": {
     "slide_type": "slide"
    }
   },
   "source": [
    "## Login page\n",
    "\n",
    "1. `urls.py` login url uses django auth login view\n",
    "1. login template: `login.html`, add link to `base.html`"
   ]
  },
  {
   "cell_type": "markdown",
   "metadata": {
    "slideshow": {
     "slide_type": "slide"
    }
   },
   "source": [
    "## Logout view\n",
    "\n",
    "1. `urls.py` logout url uses django auth logout view\n",
    "1. `base.html` 👉 link to logout"
   ]
  },
  {
   "cell_type": "markdown",
   "metadata": {
    "slideshow": {
     "slide_type": "slide"
    }
   },
   "source": [
    "## New users & registration\n",
    "\n",
    "1. `urls.py` add the register url\n",
    "1. `views.py` register view\n",
    "1. `register.html`"
   ]
  },
  {
   "cell_type": "markdown",
   "metadata": {
    "slideshow": {
     "slide_type": "slide"
    }
   },
   "source": [
    "## Restricting access\n",
    "\n",
    "1. `views.py`: `login_required` decorator\n",
    "1. Modify `settings.py` with `LOGIN_URL`"
   ]
  },
  {
   "cell_type": "markdown",
   "metadata": {
    "slideshow": {
     "slide_type": "slide"
    }
   },
   "source": [
    "## Tying data to a user\n",
    "\n",
    "1. Change model adding owner to `Topic`\n",
    "1. Assign current data to a user\n",
    "   1. Get the id of the user that should own data\n",
    "   1. `python manage.py makemigrations learning_logs`\n",
    "   1. Migrate the data\n",
    "1. Restrict access to owner\n",
    "   1. Only show topics owned by user: `views.py:topics`\n",
    "   1. check that the user owns topic or `edit_entry`: `views.py:topic/edit_entry`\n",
    "   1. Associate new topics with current user: `views.py:new_topic`"
   ]
  },
  {
   "cell_type": "markdown",
   "metadata": {
    "slideshow": {
     "slide_type": "slide"
    }
   },
   "source": [
    "# What we did\n",
    "\n",
    "* Built a functional web application\n",
    "  * login/logout/data checks\n",
    "  * CRU~~D~~ operations on business data"
   ]
  },
  {
   "cell_type": "markdown",
   "metadata": {
    "slideshow": {
     "slide_type": "fragment"
    }
   },
   "source": [
    "# What's left\n",
    "\n",
    "* Styling your app\n",
    "* Deploying"
   ]
  },
  {
   "cell_type": "markdown",
   "metadata": {
    "slideshow": {
     "slide_type": "slide"
    }
   },
   "source": [
    "# Some thoughts\n",
    "\n",
    "* Check out django-rest-framework\n",
    "* Other django plugins\n",
    "   * django-debug-toolbar\n",
    "   * django-bootstrap   "
   ]
  },
  {
   "cell_type": "markdown",
   "metadata": {
    "slideshow": {
     "slide_type": "slide"
    }
   },
   "source": [
    "# The End 😢\n",
    "\n",
    "* Thanks for attending!"
   ]
  }
 ],
 "metadata": {
  "kernelspec": {
   "display_name": "Python 3",
   "language": "python",
   "name": "python3"
  },
  "language_info": {
   "codemirror_mode": {
    "name": "ipython",
    "version": 3
   },
   "file_extension": ".py",
   "mimetype": "text/x-python",
   "name": "python",
   "nbconvert_exporter": "python",
   "pygments_lexer": "ipython3",
   "version": "3.7.0"
  },
  "livereveal": {
   "scroll": true,
   "slideNumber": true
  }
 },
 "nbformat": 4,
 "nbformat_minor": 2
}
