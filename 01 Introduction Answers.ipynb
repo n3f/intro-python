{
 "cells": [
  {
   "cell_type": "markdown",
   "metadata": {
    "slideshow": {
     "slide_type": "slide"
    }
   },
   "source": [
    "#### 1-2: Hello World Typos\n",
    "\n",
    "Open the `hello.py` file you just created.  Make a typo somewhere in the line and run the program again.\n",
    "* Can you make a typo that generates an error?\n",
    "* Can you make sense of the error message?\n",
    "* Can you make a typo that doesn't generate an error?\n",
    "* Why do you think it didn't make an error?"
   ]
  },
  {
   "cell_type": "code",
   "execution_count": 13,
   "metadata": {
    "slideshow": {
     "slide_type": "subslide"
    }
   },
   "outputs": [
    {
     "name": "stdout",
     "output_type": "stream",
     "text": [
      "DISPLAY FILE...\n",
      "print('hello world: from file')\n",
      "RUNNING FILE...\n",
      "hello world: from file\n"
     ]
    }
   ],
   "source": [
    "# After modifying hello.py, rerun this cell\n",
    "print('display file...'.upper())\n",
    "# Change this to !cat hello.py if you are using linux\n",
    "!type hello.py\n",
    "print('running file...'.upper())\n",
    "!python hello.py"
   ]
  },
  {
   "cell_type": "markdown",
   "metadata": {
    "slideshow": {
     "slide_type": "slide"
    }
   },
   "source": [
    "#### 2-4: Name Cases\n",
    "Store a person’s name in a variable, and then print that person’s name in lowercase, uppercase, and titlecase."
   ]
  },
  {
   "cell_type": "code",
   "execution_count": 4,
   "metadata": {
    "slideshow": {
     "slide_type": "subslide"
    }
   },
   "outputs": [
    {
     "name": "stdout",
     "output_type": "stream",
     "text": [
      "brent\n",
      "BRENT\n",
      "Brent\n"
     ]
    }
   ],
   "source": [
    "# Do 2-4\n",
    "name = 'brent'\n",
    "print(name.lower())\n",
    "print(name.upper())\n",
    "print(name.title())"
   ]
  },
  {
   "cell_type": "markdown",
   "metadata": {
    "slideshow": {
     "slide_type": "slide"
    }
   },
   "source": [
    "#### 2-7: Stripping Names\n",
    "Store a person’s name, and include some whitespace characters at the beginning and end of the name. Make sure you use each\n",
    "character combination, `\"\\t\"` and `\"\\n\"`, at least once.\n",
    "\n",
    "Print the name once, so the whitespace around the name is displayed. Then print the name using each of the three stripping functions, `lstrip()`, `rstrip()`, and `strip()`."
   ]
  },
  {
   "cell_type": "code",
   "execution_count": 8,
   "metadata": {
    "slideshow": {
     "slide_type": "subslide"
    }
   },
   "outputs": [
    {
     "name": "stdout",
     "output_type": "stream",
     "text": [
      "NAME:        '\tbrent\t'\n",
      "NAME LSTRIP: 'brent\t'\n",
      "NAME RSTRIP: '\tbrent'\n",
      "NAME STRIP:  'brent'\n"
     ]
    }
   ],
   "source": [
    "# Do 2-7\n",
    "name = '\\tbrent\\t'\n",
    "print('NAME:       ', \"'\" + name + \"'\")\n",
    "print('NAME LSTRIP:', \"'\" + name.lstrip() + \"'\")\n",
    "print('NAME RSTRIP:', \"'\" + name.rstrip() + \"'\")\n",
    "print('NAME STRIP: ', \"'\" + name.strip() + \"'\")"
   ]
  },
  {
   "cell_type": "markdown",
   "metadata": {
    "slideshow": {
     "slide_type": "slide"
    }
   },
   "source": [
    "#### 3-4: Guest List\n",
    "If you could invite anyone, living or deceased, to dinner, who would you invite? Make a list that includes at least three people you’d like to invite to dinner. Then use your list to print a message to each person, inviting them to dinner."
   ]
  },
  {
   "cell_type": "code",
   "execution_count": 36,
   "metadata": {
    "slideshow": {
     "slide_type": "subslide"
    }
   },
   "outputs": [
    {
     "name": "stdout",
     "output_type": "stream",
     "text": [
      "Steve Rogers, you are cordially invited to dinner\n",
      "Tony Stark, you are cordially invited to dinner\n",
      "Peter Parker, you are cordially invited to dinner\n"
     ]
    }
   ],
   "source": [
    "# 3-4\n",
    "guests = ['Steve Rogers',\n",
    "          'Tony Stark',\n",
    "          'Peter Parker']\n",
    "for guest in guests:\n",
    "    print(guest + ', you are cordially invited to dinner')"
   ]
  },
  {
   "cell_type": "markdown",
   "metadata": {
    "slideshow": {
     "slide_type": "slide"
    }
   },
   "source": [
    "#### 3-5: Changing Guest List\n",
    "You just heard that one of your guests can’t make the dinner, so you need to send out a new set of invitations. You’ll have to think of someone else to invite.\n",
    "* Print the name of the guest who can’t make it.\n",
    "* Modify your list, replacing the name of the guest who can’t make it with the name of the new person you are inviting.\n",
    "* ~~Print a second set of invitation messages, one for each person who is still in your list.~~"
   ]
  },
  {
   "cell_type": "code",
   "execution_count": 37,
   "metadata": {
    "slideshow": {
     "slide_type": "subslide"
    }
   },
   "outputs": [
    {
     "name": "stdout",
     "output_type": "stream",
     "text": [
      "Tony Stark has declined the invite\n",
      "remaining guests: ['Steve Rogers', 'Natasha Romanov', 'Peter Parker']\n"
     ]
    }
   ],
   "source": [
    "# 3-5\n",
    "declined = 'Tony Stark'\n",
    "next_guest = 'Natasha Romanov'\n",
    "print(declined, 'has declined the invite')\n",
    "guests[guests.index(declined)] = next_guest\n",
    "print('remaining guests:', guests)"
   ]
  },
  {
   "cell_type": "markdown",
   "metadata": {
    "slideshow": {
     "slide_type": "slide"
    }
   },
   "source": [
    "#### 3-6: More Guests\n",
    "You just found a bigger dinner table, so now more space is\n",
    "available. Think of three more guests to invite to dinner.\n",
    "* Use `insert()` to add one new guest to the beginning of your list.\n",
    "* Use `insert()` to add one new guest to the middle of your list.\n",
    "* Use `append()` to add one new guest to the end of your list.\n",
    "* Print your list"
   ]
  },
  {
   "cell_type": "code",
   "execution_count": 38,
   "metadata": {
    "slideshow": {
     "slide_type": "subslide"
    }
   },
   "outputs": [
    {
     "name": "stdout",
     "output_type": "stream",
     "text": [
      "Current dinner guests ['Bruce Banner', 'Steve Rogers', 'Thor', 'Natasha Romanov', 'Peter Parker', 'Scott Lang']\n"
     ]
    }
   ],
   "source": [
    "# 3-6\n",
    "guests.insert(0, 'Bruce Banner')\n",
    "guests.insert(len(guests) // 2, 'Thor')\n",
    "guests.append('Scott Lang')\n",
    "print('Current dinner guests', guests)"
   ]
  },
  {
   "cell_type": "markdown",
   "metadata": {
    "slideshow": {
     "slide_type": "slide"
    }
   },
   "source": [
    "#### 3-7: Shrinking Guest List\n",
    "You just found out that your new dinner table won’t arrive in time for the dinner, and you have space for only two guests.\n",
    "* Print a message saying that you can invite only two people for dinner.\n",
    "* Use `pop()` to remove guests from your list one at a time until only two names remain in your list. Each time you pop a name from your list, print a message to that person letting them know you’re sorry you can’t invite them to dinner.\n",
    "* Print list\n",
    "* Use del to remove the last two names from your list, so you have an empty list. Print your list to make sure you actually have an empty list at the end of your program."
   ]
  },
  {
   "cell_type": "code",
   "execution_count": 40,
   "metadata": {
    "slideshow": {
     "slide_type": "subslide"
    }
   },
   "outputs": [
    {
     "name": "stdout",
     "output_type": "stream",
     "text": [
      "I can only invite 2\n",
      "GUEST LIST []\n"
     ]
    }
   ],
   "source": [
    "# 3-7\n",
    "print('I can only invite 2')\n",
    "\n",
    "while len(guests) > 2:\n",
    "    print(\"I'm sorry, but I can't invite you to dinner,\", guests.pop())\n",
    "\n",
    "del guests[0]\n",
    "del guests[0]\n",
    "print('GUEST LIST', guests)"
   ]
  },
  {
   "cell_type": "markdown",
   "metadata": {
    "slideshow": {
     "slide_type": "slide"
    }
   },
   "source": [
    "#### 3-8: Seeing the World\n",
    "Think of at least five places in the world you’d like to visit, and store the locations in a list. Make sure the list is not in alphabetical order.\n",
    "* Use `sorted()` to print your list in alphabetical order\n",
    "* Show that your list is still in its original order by printing it\n",
    "* Use `sorted()` to print your list in reverse alphabetical order\n",
    "* Show that your list is still in its original order by printing it again\n",
    "* Use `reverse()` to change the order of your list. Print the list to show that its order has changed\n",
    "* Use `reverse()` to change the order of your list again. Print the list to show it’s back to its original order\n",
    "* Use `sort()` to change your list so it’s stored in alphabetical order, and print the list\n",
    "* Use `sort()` to change your list so it’s stored in reverse alphabetical order and print the list"
   ]
  },
  {
   "cell_type": "code",
   "execution_count": 45,
   "metadata": {
    "slideshow": {
     "slide_type": "subslide"
    }
   },
   "outputs": [
    {
     "name": "stdout",
     "output_type": "stream",
     "text": [
      "SORTED: ['London', 'New York', 'Oahu', 'Paris', 'Tahiti']\n",
      "ORIG:   ['Paris', 'New York', 'Oahu', 'Tahiti', 'London']\n",
      "SORTED: ['Tahiti', 'Paris', 'Oahu', 'New York', 'London']\n",
      "ORIG:   ['Paris', 'New York', 'Oahu', 'Tahiti', 'London']\n",
      "REVERS: ['London', 'Tahiti', 'Oahu', 'New York', 'Paris']\n",
      "ORIG:   ['Paris', 'New York', 'Oahu', 'Tahiti', 'London']\n",
      "SORTED: ['London', 'New York', 'Oahu', 'Paris', 'Tahiti']\n",
      "SORTED: ['Tahiti', 'Paris', 'Oahu', 'New York', 'London']\n"
     ]
    }
   ],
   "source": [
    "# Do 3-8\n",
    "places = ['Paris', 'New York', 'Oahu', 'Tahiti', 'London']\n",
    "print('SORTED:', sorted(places))\n",
    "print('ORIG:  ', places)\n",
    "print('SORTED:', sorted(places, reverse=True))\n",
    "print('ORIG:  ', places)\n",
    "places.reverse()\n",
    "print('REVERS:', places)\n",
    "places.reverse()\n",
    "print('ORIG:  ', places)\n",
    "places.sort()\n",
    "print('SORTED:', places)\n",
    "places.sort(reverse=True)\n",
    "print('SORTED:', places)"
   ]
  },
  {
   "cell_type": "markdown",
   "metadata": {
    "slideshow": {
     "slide_type": "slide"
    }
   },
   "source": [
    "#### 3-11: Intentional Error\n",
    "If you haven’t received an index error in one of your programs yet, try to make one happen. Change an index in one of your programs to produce an index error. Make sure you correct the error before closing the program."
   ]
  },
  {
   "cell_type": "code",
   "execution_count": 46,
   "metadata": {
    "slideshow": {
     "slide_type": "subslide"
    }
   },
   "outputs": [
    {
     "ename": "IndexError",
     "evalue": "list index out of range",
     "output_type": "error",
     "traceback": [
      "\u001b[1;31m---------------------------------------------------------------------------\u001b[0m",
      "\u001b[1;31mIndexError\u001b[0m                                Traceback (most recent call last)",
      "\u001b[1;32m<ipython-input-46-3f0d88adaf42>\u001b[0m in \u001b[0;36m<module>\u001b[1;34m()\u001b[0m\n\u001b[0;32m      1\u001b[0m \u001b[1;31m# Do 3-11\u001b[0m\u001b[1;33m\u001b[0m\u001b[1;33m\u001b[0m\u001b[0m\n\u001b[0;32m      2\u001b[0m \u001b[0mnames\u001b[0m \u001b[1;33m=\u001b[0m \u001b[1;33m[\u001b[0m\u001b[1;33m]\u001b[0m\u001b[1;33m\u001b[0m\u001b[0m\n\u001b[1;32m----> 3\u001b[1;33m \u001b[0mprint\u001b[0m\u001b[1;33m(\u001b[0m\u001b[0mnames\u001b[0m\u001b[1;33m[\u001b[0m\u001b[1;36m0\u001b[0m\u001b[1;33m]\u001b[0m\u001b[1;33m)\u001b[0m\u001b[1;33m\u001b[0m\u001b[0m\n\u001b[0m",
      "\u001b[1;31mIndexError\u001b[0m: list index out of range"
     ]
    }
   ],
   "source": [
    "# Do 3-11\n",
    "names = []\n",
    "print(names[0])"
   ]
  },
  {
   "cell_type": "markdown",
   "metadata": {
    "slideshow": {
     "slide_type": "slide"
    }
   },
   "source": [
    "#### 4-1: Pizzas\n",
    "\n",
    "* Think of at least three kinds of your favorite pizza. Store these pizza names in a list, and then use a `for` loop to print the name of each pizza.\n",
    "* Modify your `for` loop to print a sentence using the name of the pizza instead of printing just the name of the pizza. For each pizza you should have one line of output containing a simple statement like *\"I like pepperoni pizza\"*.\n",
    "* Add a line at the end of your program, outside the for loop, that states how much you like pizza. The output should consist of three or more lines about the kinds of pizza you like and then an additional sentence, such as *\"I really love pizza!\"*"
   ]
  },
  {
   "cell_type": "code",
   "execution_count": 48,
   "metadata": {
    "slideshow": {
     "slide_type": "subslide"
    }
   },
   "outputs": [
    {
     "name": "stdout",
     "output_type": "stream",
     "text": [
      "I like pepperoni pizza\n",
      "I like meatlovers pizza\n",
      "I like supreme pizza\n",
      "I really love pizza\n"
     ]
    }
   ],
   "source": [
    "# Do 4-1\n",
    "pizzas = ['pepperoni', 'meatlovers', 'supreme']\n",
    "for pizza in pizzas:\n",
    "    #print(pizza)\n",
    "    print('I like ' + pizza + ' pizza')\n",
    "print('I really love pizza')"
   ]
  },
  {
   "cell_type": "markdown",
   "metadata": {
    "slideshow": {
     "slide_type": "slide"
    }
   },
   "source": [
    "#### 4-5: Summing a Million\n",
    "Make a list of the numbers from one to one million, and then use `min()` and `max()` to make sure your list actually starts at one and ends at one million. Also, use the `sum()` function to see how quickly Python can add a million numbers."
   ]
  },
  {
   "cell_type": "code",
   "execution_count": 49,
   "metadata": {
    "slideshow": {
     "slide_type": "subslide"
    }
   },
   "outputs": [
    {
     "name": "stdout",
     "output_type": "stream",
     "text": [
      "MIN: 1\n",
      "MAX: 1000000\n",
      "SUM: 500000500000\n"
     ]
    }
   ],
   "source": [
    "# Do 4-5\n",
    "million = 1000000\n",
    "numbers = range(1, million + 1)\n",
    "print('MIN:', min(numbers))\n",
    "print('MAX:', max(numbers))\n",
    "print('SUM:', sum(numbers))"
   ]
  },
  {
   "cell_type": "markdown",
   "metadata": {
    "slideshow": {
     "slide_type": "slide"
    }
   },
   "source": [
    "#### 4-7: Threes\n",
    "Make a list of the multiples of 3 from 3 to 30. Use a `for` loop to print the numbers in your list."
   ]
  },
  {
   "cell_type": "code",
   "execution_count": 55,
   "metadata": {
    "slideshow": {
     "slide_type": "subslide"
    }
   },
   "outputs": [
    {
     "name": "stdout",
     "output_type": "stream",
     "text": [
      "3, 6, 9, 12, 15, 18, 21, 24, 27, 30, "
     ]
    }
   ],
   "source": [
    "# Do 4-7\n",
    "for i in range(3,31,3):\n",
    "    print(i, end=', ')"
   ]
  },
  {
   "cell_type": "markdown",
   "metadata": {
    "slideshow": {
     "slide_type": "slide"
    }
   },
   "source": [
    "#### 4-11: My Pizzas, Your Pizzas\n",
    "Start with your program from Exercise 4-1. Make a copy of the list of pizzas, and call it `friend_pizzas`.\n",
    "Then, do the following:\n",
    "* Add a new pizza to the original list.\n",
    "* Add a different pizza to the list `friend_pizzas`.\n",
    "* Prove that you have two separate lists. Print the message, *My favorite pizzas are:*, and then use a `for` loop to print the first list. Print the message, *My friend’s favorite pizzas are:*, and then use a `for` loop to print the second list. Make sure each new pizza is stored in the appropriate list."
   ]
  },
  {
   "cell_type": "code",
   "execution_count": 57,
   "metadata": {
    "slideshow": {
     "slide_type": "subslide"
    }
   },
   "outputs": [
    {
     "name": "stdout",
     "output_type": "stream",
     "text": [
      "My favorite pizzas are: pepperoni, meatlovers, supreme, hawaiian\n",
      "My friend's favorite pizzas are: pepperoni, meatlovers, supreme, vegan\n"
     ]
    }
   ],
   "source": [
    "# Do 4-11\n",
    "friend_pizzas = pizzas[:]\n",
    "pizzas.append('hawaiian')\n",
    "friend_pizzas.append('vegan')\n",
    "print('My favorite pizzas are:', ', '.join(pizzas))\n",
    "print(\"My friend's favorite pizzas are:\", ', '.join(friend_pizzas))"
   ]
  },
  {
   "cell_type": "markdown",
   "metadata": {
    "slideshow": {
     "slide_type": "slide"
    }
   },
   "source": [
    "#### 6-3: Glossary\n",
    "A Python dictionary can be used to model an actual dictionary. However, to avoid confusion, let’s call it a glossary.\n",
    "* Think of five programming words you’ve learned about in the previous chapters. Use these words as the keys in your glossary, and store their meanings as values.\n",
    "* Print each word and its meaning as neatly formatted output. You might print the word followed by a colon and then its meaning, or print the word on one line and then print its meaning indented on a second line. Use the newline character (`\\n`) to insert a blank line between each word-meaning pair in your output."
   ]
  },
  {
   "cell_type": "code",
   "execution_count": 58,
   "metadata": {
    "slideshow": {
     "slide_type": "subslide"
    }
   },
   "outputs": [
    {
     "name": "stdout",
     "output_type": "stream",
     "text": [
      "tuple\n",
      "\t immutable list \n",
      "\n",
      "list\n",
      "\t an ordered collection \n",
      "\n",
      "string\n",
      "\t an immutable collection of characters \n",
      "\n",
      "integer\n",
      "\t whole number \n",
      "\n",
      "dictionary\n",
      "\t collection of key/value pairs \n",
      "\n"
     ]
    }
   ],
   "source": [
    "# do 6-3\n",
    "glossary = {\n",
    "    'tuple': 'immutable list',\n",
    "    'list': 'an ordered collection',\n",
    "    'string': 'an immutable collection of characters',\n",
    "    'integer': 'whole number',\n",
    "    'dictionary': 'collection of key/value pairs'\n",
    "}\n",
    "for word, definition in glossary.items():\n",
    "    print(word)\n",
    "    print('\\t', definition, '\\n')"
   ]
  },
  {
   "cell_type": "markdown",
   "metadata": {
    "slideshow": {
     "slide_type": "slide"
    }
   },
   "source": [
    "#### 6-4: Glossary 2\n",
    "\n",
    "* Now that you know how to loop through a dictionary, clean up the code from Exercise 6-3 by replacing your series of print statements with a loop that runs through the dictionary’s keys and values.\n",
    "* When you’re sure that your loop works, add five more Python terms to your glossary. When you run your program again, these new words and meanings should automatically be included in the output."
   ]
  },
  {
   "cell_type": "code",
   "execution_count": 60,
   "metadata": {
    "slideshow": {
     "slide_type": "subslide"
    }
   },
   "outputs": [
    {
     "name": "stdout",
     "output_type": "stream",
     "text": [
      "tuple\n",
      "\t immutable list \n",
      "\n",
      "list\n",
      "\t an ordered collection \n",
      "\n",
      "string\n",
      "\t an immutable collection of characters \n",
      "\n",
      "integer\n",
      "\t whole number \n",
      "\n",
      "dictionary\n",
      "\t collection of key/value pairs \n",
      "\n",
      "test\n",
      "\t booyah \n",
      "\n",
      "test2\n",
      "\t neat \n",
      "\n",
      "test3\n",
      "\t gross \n",
      "\n"
     ]
    }
   ],
   "source": [
    "# Do 6-4\n",
    "glossary['test'] = 'booyah'\n",
    "glossary.update(\n",
    "    test2='neat',\n",
    "    test3='gross'\n",
    ")\n",
    "for word, definition in glossary.items():\n",
    "    print(word)\n",
    "    print('\\t', definition, '\\n')"
   ]
  }
 ],
 "metadata": {
  "celltoolbar": "Slideshow",
  "kernelspec": {
   "display_name": "Python 3",
   "language": "python",
   "name": "python3"
  },
  "language_info": {
   "codemirror_mode": {
    "name": "ipython",
    "version": 3
   },
   "file_extension": ".py",
   "mimetype": "text/x-python",
   "name": "python",
   "nbconvert_exporter": "python",
   "pygments_lexer": "ipython3",
   "version": "3.7.0"
  },
  "rise": {
   "slideNumber": false,
   "theme": "sky"
  }
 },
 "nbformat": 4,
 "nbformat_minor": 2
}
