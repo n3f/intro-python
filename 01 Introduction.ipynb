{
 "cells": [
  {
   "cell_type": "markdown",
   "metadata": {
    "slideshow": {
     "slide_type": "slide"
    }
   },
   "source": [
    "# Introduction to Python\n",
    "Brent Nef  \n",
    "August 22, 2018"
   ]
  },
  {
   "cell_type": "markdown",
   "metadata": {},
   "source": [
    "## Who am I\n",
    "## About class"
   ]
  },
  {
   "cell_type": "markdown",
   "metadata": {
    "slideshow": {
     "slide_type": "slide"
    }
   },
   "source": [
    "## Python Crash Course :: *1*\n",
    "\n",
    "1. [Getting Started](#Getting-Started)\n",
    "1. [Variables & Data Types](#Variables-and-Data-Types)\n",
    "1. [Lists](#Lists)\n",
    "1. [Dictionaries](#Dictionaries)"
   ]
  },
  {
   "cell_type": "markdown",
   "metadata": {
    "slideshow": {
     "slide_type": "slide"
    }
   },
   "source": [
    "## Getting Started"
   ]
  },
  {
   "cell_type": "markdown",
   "metadata": {
    "slideshow": {
     "slide_type": "slide"
    }
   },
   "source": [
    "### Why Python?"
   ]
  },
  {
   "cell_type": "markdown",
   "metadata": {
    "slideshow": {
     "slide_type": "subslide"
    }
   },
   "source": [
    "* Consistently ranked as one of the top programming languages every year\n",
    "   * Used by the cool kids: Google, YouTube, Dropbox, Netflix, etc.\n",
    "   * Used by the scientific computing community (Data Visualization, Data Mining)\n",
    "   * Used by the Machine Learning/Artificial Intelligence community"
   ]
  },
  {
   "cell_type": "markdown",
   "metadata": {
    "slideshow": {
     "slide_type": "subslide"
    }
   },
   "source": [
    "* Good balance between high-level glue-ware and bit-level manipulation\n",
    "* Readable:\n",
    "   * Every program is only written once, but read and revised many times (by many people)\n",
    "   * Easier to learn and comprehend\n",
    "* Terse: writing something in python is generally smaller than an equivalent program in another language\n",
    "* ***FUN*** 🎆 🎉"
   ]
  },
  {
   "cell_type": "markdown",
   "metadata": {
    "slideshow": {
     "slide_type": "subslide"
    }
   },
   "source": [
    "### Why not Python?\n",
    "\n",
    "* Not installed everywhere by default:\n",
    "   * *Windows =* ☹️\n",
    "   * Unix, Linux, OSX = 👍\n",
    "* Performance issues\n",
    "   * CPU bound problems are more difficult to solve\n",
    "   * Most issues have workarounds, but it depends on your problem"
   ]
  },
  {
   "cell_type": "markdown",
   "metadata": {
    "slideshow": {
     "slide_type": "slide"
    }
   },
   "source": [
    "### Installation\n",
    "\n",
    "Use the [conda installation package](https://www.anaconda.com/download/)\n",
    "<!--* Simple way to get binaries and most data science python packages-->\n"
   ]
  },
  {
   "cell_type": "markdown",
   "metadata": {
    "slideshow": {
     "slide_type": "fragment"
    }
   },
   "source": [
    "After installation start `python` from a command prompt:\n",
    "\n",
    "```sh\n",
    "$ python\n",
    "Python 3.6.2 |Continuum Analytics, Inc.| (default, Jul 20 2017, 12:30:02) [MSC v.1900 64 bit (AMD64)] on win32\n",
    "Type \"help\", \"copyright\", \"credits\" or \"license\" for more information.\n",
    ">>>\n",
    "```"
   ]
  },
  {
   "cell_type": "code",
   "execution_count": 1,
   "metadata": {
    "slideshow": {
     "slide_type": "skip"
    }
   },
   "outputs": [
    {
     "name": "stdout",
     "output_type": "stream",
     "text": [
      "3.7.0 (default, Jun 28 2018, 08:04:48) [MSC v.1912 64 bit (AMD64)]\n"
     ]
    }
   ],
   "source": [
    "import sys\n",
    "print(sys.version)"
   ]
  },
  {
   "cell_type": "markdown",
   "metadata": {
    "slideshow": {
     "slide_type": "slide"
    }
   },
   "source": [
    "### Hello World"
   ]
  },
  {
   "cell_type": "code",
   "execution_count": 1,
   "metadata": {},
   "outputs": [
    {
     "name": "stdout",
     "output_type": "stream",
     "text": [
      "Hello World!\n"
     ]
    }
   ],
   "source": [
    "print('Hello World!')"
   ]
  },
  {
   "cell_type": "markdown",
   "metadata": {},
   "source": [
    "If this is placed in a file `hello.py` in the current directory you can run `python hello.py` and see the results return"
   ]
  },
  {
   "cell_type": "code",
   "execution_count": 3,
   "metadata": {},
   "outputs": [
    {
     "name": "stdout",
     "output_type": "stream",
     "text": [
      "hello world: from file\n"
     ]
    }
   ],
   "source": [
    "!python hello.py"
   ]
  },
  {
   "cell_type": "markdown",
   "metadata": {
    "slideshow": {
     "slide_type": "slide"
    }
   },
   "source": [
    "### 1-2: Hello World Typos\n",
    "\n",
    "Open the `hello.py` file you just created.  Make a typo somewhere in the line and run the program again.\n",
    "* Can you make a typo that generates an error?\n",
    "* Can you make sense of the error message?\n",
    "* Can you make a typo that doesn't generate an error?\n",
    "* Why do you think it didn't make an error?"
   ]
  },
  {
   "cell_type": "markdown",
   "metadata": {
    "slideshow": {
     "slide_type": "skip"
    }
   },
   "source": [
    "*Go modify the `hello.py` file and re-run the command above*"
   ]
  },
  {
   "cell_type": "markdown",
   "metadata": {
    "slideshow": {
     "slide_type": "slide"
    }
   },
   "source": [
    "## Variables and Data Types"
   ]
  },
  {
   "cell_type": "markdown",
   "metadata": {
    "slideshow": {
     "slide_type": "slide"
    }
   },
   "source": [
    "### Variables are\n",
    "\n",
    "* names that refer to values in the computer's memory that you can define for use with your program\n",
    "* just names\n",
    "\n",
    "Use `=` to *assign* a value to a variable\n",
    "\n",
    "Assignment doesn't copy a value, it only attaches a name to the object"
   ]
  },
  {
   "cell_type": "code",
   "execution_count": 4,
   "metadata": {
    "slideshow": {
     "slide_type": "subslide"
    }
   },
   "outputs": [
    {
     "name": "stdout",
     "output_type": "stream",
     "text": [
      "SAME A 1 140729388166912\n",
      "SAME B 1 140729388166912\n",
      "DIFF A 5 140729388167040\n",
      "DIFF B 1 140729388166912\n"
     ]
    }
   ],
   "source": [
    "# Variable assignment\n",
    "a = 1\n",
    "b = a\n",
    "# LOOK, they point at the same object in memory\n",
    "print('SAME A', a, id(a))\n",
    "print('SAME B', b, id(b))\n",
    "a = 5  # Change what 'a' is pointing at\n",
    "print('DIFF A', a, id(a))\n",
    "print('DIFF B', b, id(b))"
   ]
  },
  {
   "cell_type": "markdown",
   "metadata": {
    "slideshow": {
     "slide_type": "subslide"
    }
   },
   "source": [
    "### Creating Variable Names\n",
    "\n",
    "* Only letters, numbers and underscores *(and they can't start with a number)*\n",
    "* No spaces *(use `_` instead)*\n",
    "* Avoid reserved python keywords and functions\n",
    "* Make names short but descriptive *(e.g. `name` is better than `n`, and `name_length` is better than `length_of_persons_name`)*"
   ]
  },
  {
   "cell_type": "markdown",
   "metadata": {
    "slideshow": {
     "slide_type": "slide"
    }
   },
   "source": [
    "### Booleans\n",
    "* Simplest data type\n",
    "* Can either be `True` or `False` (the case is important)\n",
    "* Python will evaluate specific values for some types as False\n",
    "\n",
    "| Type      | Value          |\n",
    "| --------- | :------------: |\n",
    "| boolean   | `False`        |\n",
    "| null      | `None`         |\n",
    "| zero      | `0` (or `0.0`) |\n",
    "| sequences | `''`,`[]`,`()`,`{}`,`set()`|"
   ]
  },
  {
   "cell_type": "markdown",
   "metadata": {
    "slideshow": {
     "slide_type": "slide"
    }
   },
   "source": [
    "### Numbers\n",
    "\n",
    "#### Integers (Whole Numbers)\n",
    "\n",
    "* Any sequence of digits in Python is assumed to be a literal integer\n",
    "* Works exactly as you would expect from a calulator\n",
    "\n",
    "#### Floats (Decimals)\n",
    "\n",
    "* Python tries to do what you would expect\n",
    "* Due to nature of computing you might get a weird-ish result (e.g. `0.2 + 0.1` ➟ `0.300000000000004`)"
   ]
  },
  {
   "cell_type": "markdown",
   "metadata": {
    "slideshow": {
     "slide_type": "subslide"
    }
   },
   "source": [
    "|Operator|Description|Example|Result|\n",
    "| ------ | :-------- | ----- | ---- |\n",
    "|`+`|addition|`5 + 8`|`13`|\n",
    "|`-`|subtraction|`90  - 10`|`80`|\n",
    "|`*`|multiplication|`4 * 7`|`28`|\n",
    "|`/`|floating point division|`7 / 2`|`3.5`|\n",
    "|`//`|integer (truncating) division|`7 // 2`|`3`|\n",
    "|`%`|modulus (remainder)|`7 % 3`|`1`|\n",
    "|`**`|exponentiation|`3 ** 4`|`81`|"
   ]
  },
  {
   "cell_type": "code",
   "execution_count": 4,
   "metadata": {
    "slideshow": {
     "slide_type": "-"
    }
   },
   "outputs": [
    {
     "data": {
      "text/plain": [
       "0.30000000000000004"
      ]
     },
     "execution_count": 4,
     "metadata": {},
     "output_type": "execute_result"
    }
   ],
   "source": [
    "# Try some calculations:\n",
    ".2 + .1"
   ]
  },
  {
   "cell_type": "markdown",
   "metadata": {
    "slideshow": {
     "slide_type": "slide"
    }
   },
   "source": [
    "### Strings\n",
    "\n",
    "A series of characters inside quotes *(either double or single quotes)*"
   ]
  },
  {
   "cell_type": "code",
   "execution_count": 6,
   "metadata": {
    "slideshow": {
     "slide_type": "-"
    }
   },
   "outputs": [
    {
     "name": "stdout",
     "output_type": "stream",
     "text": [
      "This is a string that can contain \"\"\n",
      "This is also a string, but it can hold ''\n"
     ]
    }
   ],
   "source": [
    "string_a = 'This is a string that can contain \"\"'\n",
    "string_b = \"This is also a string, but it can hold ''\"\n",
    "print(string_a)\n",
    "print(string_b)"
   ]
  },
  {
   "cell_type": "markdown",
   "metadata": {
    "slideshow": {
     "slide_type": "subslide"
    }
   },
   "source": [
    "#### String Methods\n",
    "\n",
    "Python provides different operations that you can perform on strings"
   ]
  },
  {
   "cell_type": "code",
   "execution_count": 7,
   "metadata": {
    "slideshow": {
     "slide_type": "-"
    }
   },
   "outputs": [
    {
     "name": "stdout",
     "output_type": "stream",
     "text": [
      "capitalize This is a string that can contain \"\"\n",
      "upper      THIS IS A STRING THAT CAN CONTAIN \"\"\n",
      "title      This Is A String That Can Contain \"\"\n",
      "swapcase   tHIS iS a sTRING tHAT cAN cONTAIN \"\"\n"
     ]
    }
   ],
   "source": [
    "print('capitalize', string_a.capitalize())\n",
    "print('upper     ', string_a.upper())\n",
    "print('title     ', string_a.title())\n",
    "print('swapcase  ', string_a.title().swapcase())"
   ]
  },
  {
   "cell_type": "markdown",
   "metadata": {
    "slideshow": {
     "slide_type": "-"
    }
   },
   "source": [
    "Try running `help(str)` to see other methods available"
   ]
  },
  {
   "cell_type": "markdown",
   "metadata": {
    "slideshow": {
     "slide_type": "subslide"
    }
   },
   "source": [
    "#### 2-4: Name Cases\n",
    "Store a person’s name in a variable, and then print that person’s name in lowercase, uppercase, and titlecase."
   ]
  },
  {
   "cell_type": "code",
   "execution_count": 8,
   "metadata": {
    "slideshow": {
     "slide_type": "skip"
    }
   },
   "outputs": [],
   "source": [
    "# Do 2-4"
   ]
  },
  {
   "cell_type": "markdown",
   "metadata": {
    "slideshow": {
     "slide_type": "subslide"
    }
   },
   "source": [
    "#### 2-7: Stripping Names\n",
    "Store a person’s name, and include some whitespace characters at the beginning and end of the name. Make sure you use each\n",
    "character combination, `\"\\t\"` and `\"\\n\"`, at least once.\n",
    "\n",
    "Print the name once, so the whitespace around the name is displayed. Then print the name using each of the three stripping functions, `lstrip()`, `rstrip()`, and `strip()`."
   ]
  },
  {
   "cell_type": "code",
   "execution_count": 9,
   "metadata": {
    "slideshow": {
     "slide_type": "skip"
    }
   },
   "outputs": [],
   "source": [
    "# Do 2-7"
   ]
  },
  {
   "cell_type": "markdown",
   "metadata": {
    "slideshow": {
     "slide_type": "slide"
    }
   },
   "source": [
    "### Comments\n",
    "\n",
    "* Add notes to your code to describe the problem you are solving in addition to the approach you are using to solving it\n",
    "* If you do something fancy, you will want the comments the next time you look at the code or you might not understand what you were thinking\n",
    "\n",
    "<center><img width=\"400\" src=\"https://i.pinimg.com/originals/cb/5d/7c/cb5d7c92973b787a0aa05a7070a29911.jpg\"></center>"
   ]
  },
  {
   "cell_type": "markdown",
   "metadata": {
    "slideshow": {
     "slide_type": "subslide"
    }
   },
   "source": [
    "#### Comments Example\n",
    "\n",
    "* The `#` indicates a comment\n",
    "* Python will ignore anything after the `#` to the end of the line"
   ]
  },
  {
   "cell_type": "code",
   "execution_count": 10,
   "metadata": {
    "slideshow": {
     "slide_type": "-"
    }
   },
   "outputs": [
    {
     "name": "stdout",
     "output_type": "stream",
     "text": [
      "1\n"
     ]
    }
   ],
   "source": [
    "# I'm setting bob here to reference later...\n",
    "bob = 1 # so I can put the comment here too\n",
    "        # But bob is still defined\n",
    "print(bob)"
   ]
  },
  {
   "cell_type": "markdown",
   "metadata": {
    "slideshow": {
     "slide_type": "slide"
    }
   },
   "source": [
    "## Zen of Python"
   ]
  },
  {
   "cell_type": "code",
   "execution_count": 11,
   "metadata": {
    "slideshow": {
     "slide_type": "-"
    }
   },
   "outputs": [
    {
     "name": "stdout",
     "output_type": "stream",
     "text": [
      "The Zen of Python, by Tim Peters\n",
      "\n",
      "Beautiful is better than ugly.\n",
      "Explicit is better than implicit.\n",
      "Simple is better than complex.\n",
      "Complex is better than complicated.\n",
      "Flat is better than nested.\n",
      "Sparse is better than dense.\n",
      "Readability counts.\n",
      "Special cases aren't special enough to break the rules.\n",
      "Although practicality beats purity.\n",
      "Errors should never pass silently.\n",
      "Unless explicitly silenced.\n",
      "In the face of ambiguity, refuse the temptation to guess.\n",
      "There should be one-- and preferably only one --obvious way to do it.\n",
      "Although that way may not be obvious at first unless you're Dutch.\n",
      "Now is better than never.\n",
      "Although never is often better than *right* now.\n",
      "If the implementation is hard to explain, it's a bad idea.\n",
      "If the implementation is easy to explain, it may be a good idea.\n",
      "Namespaces are one honking great idea -- let's do more of those!\n"
     ]
    }
   ],
   "source": [
    "import this"
   ]
  },
  {
   "cell_type": "markdown",
   "metadata": {
    "slideshow": {
     "slide_type": "slide"
    }
   },
   "source": [
    "## Lists\n",
    "\n",
    "* A *list* is a collection of items in a particular order (e.g. letters, digits, names)\n",
    "* Lists are denoted with square brackets `[]`, and individual elements are separated by commas\n",
    "* Elements can be accessed with their *index* or the number that they were added to the list (0-based)\n",
    "   * *What if you wanted the last element?*"
   ]
  },
  {
   "cell_type": "code",
   "execution_count": 12,
   "metadata": {
    "slideshow": {
     "slide_type": "-"
    }
   },
   "outputs": [
    {
     "name": "stdout",
     "output_type": "stream",
     "text": [
      "danny\n"
     ]
    }
   ],
   "source": [
    "names = ['jake', 'danny', 'lindsay', 'josh']\n",
    "# What will this return?\n",
    "print(names[1])"
   ]
  },
  {
   "cell_type": "markdown",
   "metadata": {
    "slideshow": {
     "slide_type": "subslide"
    }
   },
   "source": [
    "### Changing Element"
   ]
  },
  {
   "cell_type": "code",
   "execution_count": 13,
   "metadata": {
    "slideshow": {
     "slide_type": "-"
    }
   },
   "outputs": [
    {
     "name": "stdout",
     "output_type": "stream",
     "text": [
      "['jacob', 'danny', 'lindsay', 'josh']\n"
     ]
    }
   ],
   "source": [
    "names[0] = 'jacob'\n",
    "print(names)"
   ]
  },
  {
   "cell_type": "markdown",
   "metadata": {
    "slideshow": {
     "slide_type": "subslide"
    }
   },
   "source": [
    "### Adding Element"
   ]
  },
  {
   "cell_type": "code",
   "execution_count": 14,
   "metadata": {
    "slideshow": {
     "slide_type": "-"
    }
   },
   "outputs": [
    {
     "name": "stdout",
     "output_type": "stream",
     "text": [
      "['jacob', 'danny', 'lindsay', 'josh', 'tami']\n"
     ]
    }
   ],
   "source": [
    "names.append('tami')\n",
    "print(names)"
   ]
  },
  {
   "cell_type": "markdown",
   "metadata": {
    "slideshow": {
     "slide_type": "subslide"
    }
   },
   "source": [
    "### Inserting Element"
   ]
  },
  {
   "cell_type": "code",
   "execution_count": 15,
   "metadata": {
    "slideshow": {
     "slide_type": "-"
    }
   },
   "outputs": [
    {
     "name": "stdout",
     "output_type": "stream",
     "text": [
      "['brent', 'jacob', 'danny', 'lindsay', 'josh', 'tami']\n"
     ]
    }
   ],
   "source": [
    "names.insert(0,'brent')\n",
    "print(names)"
   ]
  },
  {
   "cell_type": "markdown",
   "metadata": {
    "slideshow": {
     "slide_type": "subslide"
    }
   },
   "source": [
    "### Removing Element"
   ]
  },
  {
   "cell_type": "code",
   "execution_count": 16,
   "metadata": {
    "slideshow": {
     "slide_type": "-"
    }
   },
   "outputs": [
    {
     "name": "stdout",
     "output_type": "stream",
     "text": [
      "['jacob', 'danny', 'lindsay', 'josh', 'tami']\n"
     ]
    }
   ],
   "source": [
    "del names[0]\n",
    "print(names)"
   ]
  },
  {
   "cell_type": "code",
   "execution_count": 17,
   "metadata": {
    "slideshow": {
     "slide_type": "-"
    }
   },
   "outputs": [
    {
     "name": "stdout",
     "output_type": "stream",
     "text": [
      "['jacob', 'danny', 'lindsay', 'josh']\n"
     ]
    }
   ],
   "source": [
    "last_name = names.pop()  # You can optionally pass in the index of the element that you want here\n",
    "                         # but otherwise returns the last element and takes it off the list\n",
    "print(names)"
   ]
  },
  {
   "cell_type": "code",
   "execution_count": 18,
   "metadata": {
    "slideshow": {
     "slide_type": "-"
    }
   },
   "outputs": [
    {
     "name": "stdout",
     "output_type": "stream",
     "text": [
      "['jacob', 'lindsay', 'josh']\n"
     ]
    }
   ],
   "source": [
    "# Remove by value - removes only the first occurence of value in list\n",
    "names.remove('danny')\n",
    "print(names)"
   ]
  },
  {
   "cell_type": "markdown",
   "metadata": {
    "slideshow": {
     "slide_type": "subslide"
    }
   },
   "source": [
    "#### 3-4: Guest List\n",
    "If you could invite anyone, living or deceased, to dinner, who would you invite? Make a list that includes at least three people you’d like to invite to dinner. Then use your list to print a message to each person, inviting them to dinner."
   ]
  },
  {
   "cell_type": "code",
   "execution_count": 19,
   "metadata": {
    "slideshow": {
     "slide_type": "-"
    }
   },
   "outputs": [],
   "source": [
    "# 3-4"
   ]
  },
  {
   "cell_type": "markdown",
   "metadata": {
    "slideshow": {
     "slide_type": "subslide"
    }
   },
   "source": [
    "#### 3-5: Changing Guest List\n",
    "You just heard that one of your guests can’t make the dinner, so you need to send out a new set of invitations. You’ll have to think of someone else to invite.\n",
    "* Print the name of the guest who can’t make it.\n",
    "* Modify your list, replacing the name of the guest who can’t make it with the name of the new person you are inviting.\n",
    "* ~~Print a second set of invitation messages, one for each person who is still in your list.~~"
   ]
  },
  {
   "cell_type": "code",
   "execution_count": 20,
   "metadata": {
    "slideshow": {
     "slide_type": "-"
    }
   },
   "outputs": [],
   "source": [
    "# 3-5"
   ]
  },
  {
   "cell_type": "markdown",
   "metadata": {
    "slideshow": {
     "slide_type": "subslide"
    }
   },
   "source": [
    "#### 3-6: More Guests\n",
    "You just found a bigger dinner table, so now more space is\n",
    "available. Think of three more guests to invite to dinner.\n",
    "* Use `insert()` to add one new guest to the beginning of your list.\n",
    "* Use `insert()` to add one new guest to the middle of your list.\n",
    "* Use `append()` to add one new guest to the end of your list.\n",
    "* Print your list"
   ]
  },
  {
   "cell_type": "code",
   "execution_count": 21,
   "metadata": {
    "slideshow": {
     "slide_type": "-"
    }
   },
   "outputs": [],
   "source": [
    "# 3-6"
   ]
  },
  {
   "cell_type": "markdown",
   "metadata": {
    "slideshow": {
     "slide_type": "subslide"
    }
   },
   "source": [
    "#### 3-7: Shrinking Guest List\n",
    "You just found out that your new dinner table won’t arrive in time for the dinner, and you have space for only two guests.\n",
    "* Print a message saying that you can invite only two people for dinner.\n",
    "* Use `pop()` to remove guests from your list one at a time until only two names remain in your list. Each time you pop a name from your list, print a message to that person letting them know you’re sorry you can’t invite them to dinner.\n",
    "* Print list\n",
    "* Use del to remove the last two names from your list, so you have an empty list. Print your list to make sure you actually have an empty list at the end of your program."
   ]
  },
  {
   "cell_type": "code",
   "execution_count": 22,
   "metadata": {
    "slideshow": {
     "slide_type": "-"
    }
   },
   "outputs": [],
   "source": [
    "# 3-7"
   ]
  },
  {
   "cell_type": "markdown",
   "metadata": {
    "slideshow": {
     "slide_type": "subslide"
    }
   },
   "source": [
    "### Sorting a list\n",
    "* `names.sort()` method will sort the list \"in-place\" (it doesn't return any value and the list is sorted permanently) [🔗](https://docs.python.org/3.5/library/stdtypes.html#list.sort)\n",
    "* `sorted(names)` returns a copy of the list in the correct order [🔗](https://docs.python.org/3.5/library/functions.html#sorted)\n",
    "\n",
    "### Reverse\n",
    "* `names.reverse()` flips the list (i.e. first becomes last, last becomes first) [🔗](https://docs.python.org/3.5/library/stdtypes.html#mutable-sequence-types)\n",
    "\n",
    "### Length\n",
    "* `len(names)` returns the number of elements in the list [🔗](https://docs.python.org/3.5/library/functions.html#len)"
   ]
  },
  {
   "cell_type": "markdown",
   "metadata": {
    "slideshow": {
     "slide_type": "subslide"
    }
   },
   "source": [
    "### Other list tricks\n",
    "\n",
    "#### Copying\n",
    "* `list(names)`\n",
    "* `names[:]`\n",
    "* `copy(names)`\n",
    "\n",
    "#### Add a list to a list\n",
    "* `names.extend(another_list)` adds the elements of `another_list` to the `names` list"
   ]
  },
  {
   "cell_type": "markdown",
   "metadata": {
    "slideshow": {
     "slide_type": "subslide"
    }
   },
   "source": [
    "#### 3-8: Seeing the World\n",
    "Think of at least five places in the world you’d like to visit, and store the locations in a list. Make sure the list is not in alphabetical order.\n",
    "* Use `sorted()` to print your list in alphabetical order\n",
    "* Show that your list is still in its original order by printing it\n",
    "* Use `sorted()` to print your list in reverse alphabetical order\n",
    "* Show that your list is still in its original order by printing it again\n",
    "* Use `reverse()` to change the order of your list. Print the list to show that its order has changed\n",
    "* Use `reverse()` to change the order of your list again. Print the list to show it’s back to its original order\n",
    "* Use `sort()` to change your list so it’s stored in alphabetical order, and print the list\n",
    "* Use `sort()` to change your list so it’s stored in reverse alphabetical order and print the list"
   ]
  },
  {
   "cell_type": "code",
   "execution_count": 23,
   "metadata": {
    "slideshow": {
     "slide_type": "-"
    }
   },
   "outputs": [],
   "source": [
    "# Do 3-8"
   ]
  },
  {
   "cell_type": "markdown",
   "metadata": {
    "slideshow": {
     "slide_type": "subslide"
    }
   },
   "source": [
    "#### 3-11: Intentional Error\n",
    "If you haven’t received an index error in one of your programs yet, try to make one happen. Change an index in one of your programs to produce an index error. Make sure you correct the error before closing the program."
   ]
  },
  {
   "cell_type": "code",
   "execution_count": 24,
   "metadata": {
    "slideshow": {
     "slide_type": "-"
    }
   },
   "outputs": [],
   "source": [
    "# Do 3-11"
   ]
  },
  {
   "cell_type": "markdown",
   "metadata": {
    "slideshow": {
     "slide_type": "slide"
    }
   },
   "source": [
    "## Looping\n",
    "* Now we're getting to the good stuff"
   ]
  },
  {
   "cell_type": "code",
   "execution_count": 25,
   "metadata": {
    "slideshow": {
     "slide_type": "-"
    }
   },
   "outputs": [
    {
     "name": "stdout",
     "output_type": "stream",
     "text": [
      "alice\n",
      "bob\n",
      "chuck\n"
     ]
    }
   ],
   "source": [
    "magicians = ['alice','bob','chuck']\n",
    "for magician in magicians:\n",
    "    print(magician)"
   ]
  },
  {
   "cell_type": "markdown",
   "metadata": {
    "slideshow": {
     "slide_type": "subslide"
    }
   },
   "source": [
    "### Identation\n",
    "\n",
    "Python uses identation to determine when code is connected to the line above it.  This is different than other languages and leads to some potential errors:\n",
    "\n",
    "   * Forgetting to indent\n",
    "   * Forgetting to indent additional lines\n",
    "   * Indenting unnecessarily\n",
    "   * Indenting unnecessarily after the loop\n",
    "   * Forgetting the colon"
   ]
  },
  {
   "cell_type": "code",
   "execution_count": 26,
   "metadata": {
    "slideshow": {
     "slide_type": "-"
    }
   },
   "outputs": [
    {
     "ename": "IndentationError",
     "evalue": "expected an indented block (<ipython-input-26-dcad30884bd0>, line 2)",
     "output_type": "error",
     "traceback": [
      "\u001b[1;36m  File \u001b[1;32m\"<ipython-input-26-dcad30884bd0>\"\u001b[1;36m, line \u001b[1;32m2\u001b[0m\n\u001b[1;33m    print(magician)\u001b[0m\n\u001b[1;37m        ^\u001b[0m\n\u001b[1;31mIndentationError\u001b[0m\u001b[1;31m:\u001b[0m expected an indented block\n"
     ]
    }
   ],
   "source": [
    "for magician in magicians:\n",
    "print(magician)"
   ]
  },
  {
   "cell_type": "markdown",
   "metadata": {
    "slideshow": {
     "slide_type": "subslide"
    }
   },
   "source": [
    "#### 4-1: Pizzas\n",
    "\n",
    "* Think of at least three kinds of your favorite pizza. Store these pizza names in a list, and then use a `for` loop to print the name of each pizza.\n",
    "* Modify your `for` loop to print a sentence using the name of the pizza instead of printing just the name of the pizza. For each pizza you should have one line of output containing a simple statement like *\"I like pepperoni pizza\"*.\n",
    "* Add a line at the end of your program, outside the for loop, that states how much you like pizza. The output should consist of three or more lines about the kinds of pizza you like and then an additional sentence, such as *\"I really love pizza!\"*"
   ]
  },
  {
   "cell_type": "code",
   "execution_count": 27,
   "metadata": {
    "slideshow": {
     "slide_type": "skip"
    }
   },
   "outputs": [],
   "source": [
    "# Do 4-1"
   ]
  },
  {
   "cell_type": "markdown",
   "metadata": {
    "slideshow": {
     "slide_type": "subslide"
    }
   },
   "source": [
    "### Generate Number Sequences with `range()`\n",
    "\n",
    "* The `range()` function returns a stream of numbers within a specified range without first having to create and store a large data structure such as a list or tuple\n",
    "* `range(start, stop, step)`:\n",
    "   * Only required value is *stop*\n",
    "   * *start* defaults to 0\n",
    "   * *step* defaults to 1, go backwards with -1"
   ]
  },
  {
   "cell_type": "code",
   "execution_count": 28,
   "metadata": {
    "slideshow": {
     "slide_type": "subslide"
    }
   },
   "outputs": [
    {
     "name": "stdout",
     "output_type": "stream",
     "text": [
      "0\n",
      "1\n",
      "2\n",
      "3\n",
      "4\n"
     ]
    }
   ],
   "source": [
    "# Start at 0 and count up to 5\n",
    "for i in range(5):\n",
    "    print(i)"
   ]
  },
  {
   "cell_type": "code",
   "execution_count": 29,
   "metadata": {
    "slideshow": {
     "slide_type": "subslide"
    }
   },
   "outputs": [
    {
     "name": "stdout",
     "output_type": "stream",
     "text": [
      "5\n",
      "4\n",
      "3\n",
      "2\n",
      "1\n"
     ]
    }
   ],
   "source": [
    "# Count down from 5\n",
    "# **Notice that the last element is NOT in the range**\n",
    "for i in range(5, 0, -1):\n",
    "    print(i)"
   ]
  },
  {
   "cell_type": "markdown",
   "metadata": {
    "slideshow": {
     "slide_type": "subslide"
    }
   },
   "source": [
    "### List Comprehensions\n",
    "\n",
    "* Combines a `for` loop and the creation of new elements into one line of code\n",
    "* *Don't worry if you find this confusing.  Even though it's a more advanced python technique, it's fairly common in real world programs -- so you should at least know where to look for more information.*"
   ]
  },
  {
   "cell_type": "code",
   "execution_count": 30,
   "metadata": {
    "slideshow": {
     "slide_type": "-"
    }
   },
   "outputs": [
    {
     "name": "stdout",
     "output_type": "stream",
     "text": [
      "[1, 4, 9, 16, 25]\n",
      "[1, 4, 9, 16, 25]\n"
     ]
    }
   ],
   "source": [
    "# Create a list of square numbers\n",
    "squares = []\n",
    "for i in range(1, 6):\n",
    "    squares.append(i**2)\n",
    "print(squares)\n",
    "\n",
    "# Loop comprehension\n",
    "print([i**2 for i in range(1, 6)])"
   ]
  },
  {
   "cell_type": "markdown",
   "metadata": {
    "slideshow": {
     "slide_type": "subslide"
    }
   },
   "source": [
    "#### 4-5: Summing a Million\n",
    "Make a list of the numbers from one to one million, and then use `min()` and `max()` to make sure your list actually starts at one and ends at one million. Also, use the `sum()` function to see how quickly Python can add a million numbers."
   ]
  },
  {
   "cell_type": "code",
   "execution_count": 31,
   "metadata": {
    "slideshow": {
     "slide_type": "skip"
    }
   },
   "outputs": [],
   "source": [
    "# Do 4-5"
   ]
  },
  {
   "cell_type": "markdown",
   "metadata": {
    "slideshow": {
     "slide_type": "subslide"
    }
   },
   "source": [
    "#### 4-7: Threes\n",
    "Make a list of the multiples of 3 from 3 to 30. Use a `for` loop to print the numbers in your list."
   ]
  },
  {
   "cell_type": "code",
   "execution_count": 32,
   "metadata": {
    "slideshow": {
     "slide_type": "skip"
    }
   },
   "outputs": [],
   "source": [
    "# Do 4-7"
   ]
  },
  {
   "cell_type": "markdown",
   "metadata": {
    "slideshow": {
     "slide_type": "slide"
    }
   },
   "source": [
    "## Slicing a list\n",
    "\n",
    "* You can extract a part of a list using a *slice*\n",
    "* `[:]` extracts the entire list (copies it)\n",
    "* `[start:]` extracts a list from *start* to the end\n",
    "* `[:end]` extracts a list from 0 to (*end* - 1)\n",
    "* `[start:end]` extracts a list from *start* to (*end* - 1) \n",
    "* `[start:end:step]` same as `range()`\n"
   ]
  },
  {
   "cell_type": "code",
   "execution_count": 33,
   "metadata": {
    "slideshow": {
     "slide_type": "subslide"
    }
   },
   "outputs": [
    {
     "name": "stdout",
     "output_type": "stream",
     "text": [
      "alphabet    ['a', 'b', 'c', 'd', 'e', 'f', 'g', 'h', 'i', 'j', 'k', 'l', 'm', 'n', 'o', 'p', 'q', 'r', 's', 't', 'u', 'v', 'w', 'x', 'y', 'z']\n",
      "first half  ['a', 'b', 'c', 'd', 'e', 'f', 'g', 'h', 'i', 'j', 'k', 'l', 'm']\n",
      "second half ['n', 'o', 'p', 'q', 'r', 's', 't', 'u', 'v', 'w', 'x', 'y', 'z']\n",
      "middle 6    ['k', 'l', 'm', 'n', 'o', 'p']\n",
      "every other ['a', 'c', 'e', 'g', 'i', 'k', 'm', 'o', 'q', 's', 'u', 'w', 'y']\n",
      "backwards   ['z', 'y', 'x', 'w', 'v', 'u', 't', 's', 'r', 'q', 'p', 'o', 'n', 'm', 'l', 'k', 'j', 'i', 'h', 'g', 'f', 'e', 'd', 'c', 'b', 'a']\n"
     ]
    }
   ],
   "source": [
    "import string\n",
    "letters = list(string.ascii_lowercase)\n",
    "print('alphabet   ', letters)\n",
    "print('first half ', letters[:13])\n",
    "print('second half', letters[13:])\n",
    "print('middle 6   ', letters[10:16])\n",
    "print('every other', letters[::2])\n",
    "print('backwards  ', letters[::-1])"
   ]
  },
  {
   "cell_type": "markdown",
   "metadata": {
    "slideshow": {
     "slide_type": "subslide"
    }
   },
   "source": [
    "#### 4-11: My Pizzas, Your Pizzas\n",
    "Start with your program from Exercise 4-1. Make a copy of the list of pizzas, and call it `friend_pizzas`.\n",
    "Then, do the following:\n",
    "* Add a new pizza to the original list.\n",
    "* Add a different pizza to the list `friend_pizzas`.\n",
    "* Prove that you have two separate lists. Print the message, *My favorite pizzas are:*, and then use a `for` loop to print the first list. Print the message, *My friend’s favorite pizzas are:*, and then use a `for` loop to print the second list. Make sure each new pizza is stored in the appropriate list."
   ]
  },
  {
   "cell_type": "code",
   "execution_count": null,
   "metadata": {},
   "outputs": [],
   "source": [
    "# Do 4-11"
   ]
  },
  {
   "cell_type": "markdown",
   "metadata": {
    "slideshow": {
     "slide_type": "slide"
    }
   },
   "source": [
    "## Tuples\n",
    "\n",
    "* Immutable `list`\n",
    "* Doesn't have any of the `list` methods that change the structure (e.g. `append`, `sort`, etc.)\n",
    "* Only methods available are `count()` and `index()`"
   ]
  },
  {
   "cell_type": "code",
   "execution_count": null,
   "metadata": {
    "slideshow": {
     "slide_type": "fragment"
    }
   },
   "outputs": [],
   "source": [
    "# Create a tuple using '()' or 'tuple()'\n",
    "t1 = (1,2,3)\n",
    "t2 = tuple(names)\n",
    "print(t1,t2)"
   ]
  },
  {
   "cell_type": "markdown",
   "metadata": {
    "slideshow": {
     "slide_type": "subslide"
    }
   },
   "source": [
    "### Immutability, schmutability\n",
    "\n",
    "* Another immutable data-type is a `string`\n",
    "* Even though you can't change the object in place, you *can* change what it's pointing to"
   ]
  },
  {
   "cell_type": "code",
   "execution_count": null,
   "metadata": {
    "slideshow": {
     "slide_type": "fragment"
    }
   },
   "outputs": [],
   "source": [
    "t1 = (0,1,2,3,4,5,6,7,8,9)\n",
    "print('t1 is currently:', t1)\n",
    "## What will this do?\n",
    "t1 = t1[::2]\n",
    "print('t1 is currently:', t1)"
   ]
  },
  {
   "cell_type": "markdown",
   "metadata": {
    "slideshow": {
     "slide_type": "slide"
    }
   },
   "source": [
    "## Dictionaries\n",
    "\n",
    "* Collection of Key, Value pairs (aka Map, aka Object, aka Hash)\n",
    "* Defined using `{}` or `dict()`"
   ]
  },
  {
   "cell_type": "code",
   "execution_count": 56,
   "metadata": {
    "slideshow": {
     "slide_type": "fragment"
    }
   },
   "outputs": [
    {
     "name": "stdout",
     "output_type": "stream",
     "text": [
      "green\n"
     ]
    }
   ],
   "source": [
    "# With only one key/value pair:\n",
    "alien_0 = {'color': 'green'}\n",
    "print(alien_0['color'])"
   ]
  },
  {
   "cell_type": "code",
   "execution_count": 54,
   "metadata": {
    "slideshow": {
     "slide_type": "fragment"
    }
   },
   "outputs": [
    {
     "name": "stdout",
     "output_type": "stream",
     "text": [
      "3\n",
      "{'color': 'red', 'eyes': 3}\n"
     ]
    }
   ],
   "source": [
    "# With 2\n",
    "alien_1 = dict(color='red', eyes=3)\n",
    "print(alien_1['eyes'])\n",
    "print(alien_1)"
   ]
  },
  {
   "cell_type": "markdown",
   "metadata": {
    "slideshow": {
     "slide_type": "subslide"
    }
   },
   "source": [
    "### Adding new key/value"
   ]
  },
  {
   "cell_type": "code",
   "execution_count": 50,
   "metadata": {
    "slideshow": {
     "slide_type": "-"
    }
   },
   "outputs": [
    {
     "name": "stdout",
     "output_type": "stream",
     "text": [
      "{'color': 'green', 'eyes': 2}\n"
     ]
    }
   ],
   "source": [
    "alien_0['eyes'] = 2\n",
    "print(alien_0)"
   ]
  },
  {
   "cell_type": "markdown",
   "metadata": {
    "slideshow": {
     "slide_type": "fragment"
    }
   },
   "source": [
    "### Modifying is the same"
   ]
  },
  {
   "cell_type": "code",
   "execution_count": 57,
   "metadata": {
    "slideshow": {
     "slide_type": "-"
    }
   },
   "outputs": [
    {
     "name": "stdout",
     "output_type": "stream",
     "text": [
      "{'color': 'green', 'eyes': 5}\n"
     ]
    }
   ],
   "source": [
    "alien_0['eyes'] = 5\n",
    "print(alien_0)"
   ]
  },
  {
   "cell_type": "markdown",
   "metadata": {
    "slideshow": {
     "slide_type": "fragment"
    }
   },
   "source": [
    "### Deleting key/value"
   ]
  },
  {
   "cell_type": "code",
   "execution_count": 58,
   "metadata": {
    "slideshow": {
     "slide_type": "-"
    }
   },
   "outputs": [
    {
     "name": "stdout",
     "output_type": "stream",
     "text": [
      "{'eyes': 5}\n"
     ]
    }
   ],
   "source": [
    "del alien_0['color']\n",
    "print(alien_0)"
   ]
  },
  {
   "cell_type": "markdown",
   "metadata": {
    "slideshow": {
     "slide_type": "subslide"
    }
   },
   "source": [
    "### Looping\n",
    "\n",
    "* Use `dict.keys()` to get a list of the keys\n",
    "* Use `dict.values()` to get a list of the values\n",
    "* Use `dict.items()` to get an iterable of key/values"
   ]
  },
  {
   "cell_type": "code",
   "execution_count": 67,
   "metadata": {
    "slideshow": {
     "slide_type": "fragment"
    }
   },
   "outputs": [
    {
     "name": "stdout",
     "output_type": "stream",
     "text": [
      "KEYS   ['color', 'eyes']\n",
      "VALUES ['red', 3]\n",
      "ITEMS  [('color', 'red'), ('eyes', 3)]\n"
     ]
    }
   ],
   "source": [
    "print('KEYS  ', list(alien_1.keys()))\n",
    "print('VALUES', list(alien_1.values()))\n",
    "print('ITEMS ', list(alien_1.items()))"
   ]
  },
  {
   "cell_type": "code",
   "execution_count": 76,
   "metadata": {
    "slideshow": {
     "slide_type": "fragment"
    }
   },
   "outputs": [
    {
     "name": "stdout",
     "output_type": "stream",
     "text": [
      "ALIEN1 KEY: color \tVALUE: red\n",
      "ALIEN1 KEY: eyes \tVALUE: 3\n"
     ]
    }
   ],
   "source": [
    "for key, value in alien_1.items():\n",
    "    print('ALIEN1 KEY:', key, '\\tVALUE:', value)"
   ]
  },
  {
   "cell_type": "markdown",
   "metadata": {
    "slideshow": {
     "slide_type": "subslide"
    }
   },
   "source": [
    "#### 6-3: Glossary\n",
    "A Python dictionary can be used to model an actual dictionary. However, to avoid confusion, let’s call it a glossary.\n",
    "* Think of five programming words you’ve learned about in the previous chapters. Use these words as the keys in your glossary, and store their meanings as values.\n",
    "* Print each word and its meaning as neatly formatted output. You might print the word followed by a colon and then its meaning, or print the word on one line and then print its meaning indented on a second line. Use the newline character (`\\n`) to insert a blank line between each word-meaning pair in your output."
   ]
  },
  {
   "cell_type": "code",
   "execution_count": null,
   "metadata": {
    "slideshow": {
     "slide_type": "skip"
    }
   },
   "outputs": [],
   "source": [
    "# do 6-3"
   ]
  },
  {
   "cell_type": "markdown",
   "metadata": {
    "slideshow": {
     "slide_type": "subslide"
    }
   },
   "source": [
    "#### 6-4: Glossary 2\n",
    "\n",
    "* Now that you know how to loop through a dictionary, clean up the code from Exercise 6-3 by replacing your series of print statements with a loop that runs through the dictionary’s keys and values.\n",
    "* When you’re sure that your loop works, add five more Python terms to your glossary. When you run your program again, these new words and meanings should automatically be included in the output."
   ]
  },
  {
   "cell_type": "code",
   "execution_count": null,
   "metadata": {
    "slideshow": {
     "slide_type": "skip"
    }
   },
   "outputs": [],
   "source": [
    "# Do 6-4"
   ]
  }
 ],
 "metadata": {
  "celltoolbar": "Slideshow",
  "kernelspec": {
   "display_name": "Python 3",
   "language": "python",
   "name": "python3"
  },
  "language_info": {
   "codemirror_mode": {
    "name": "ipython",
    "version": 3
   },
   "file_extension": ".py",
   "mimetype": "text/x-python",
   "name": "python",
   "nbconvert_exporter": "python",
   "pygments_lexer": "ipython3",
   "version": "3.7.0"
  },
  "rise": {
   "slideNumber": false,
   "theme": "sky"
  }
 },
 "nbformat": 4,
 "nbformat_minor": 2
}
